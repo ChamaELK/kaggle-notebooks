{
 "cells": [
  {
   "cell_type": "code",
   "execution_count": 1,
   "id": "3271c243",
   "metadata": {
    "_cell_guid": "b1076dfc-b9ad-4769-8c92-a6c4dae69d19",
    "_uuid": "8f2839f25d086af736a60e9eeb907d3b93b6e0e5",
    "execution": {
     "iopub.execute_input": "2023-09-16T01:38:59.531362Z",
     "iopub.status.busy": "2023-09-16T01:38:59.530536Z",
     "iopub.status.idle": "2023-09-16T01:39:00.349748Z",
     "shell.execute_reply": "2023-09-16T01:39:00.348448Z"
    },
    "papermill": {
     "duration": 0.843348,
     "end_time": "2023-09-16T01:39:00.352803",
     "exception": false,
     "start_time": "2023-09-16T01:38:59.509455",
     "status": "completed"
    },
    "tags": []
   },
   "outputs": [
    {
     "name": "stdout",
     "output_type": "stream",
     "text": [
      "/kaggle/input/spaceship-titanic/sample_submission.csv\n",
      "/kaggle/input/spaceship-titanic/train.csv\n",
      "/kaggle/input/spaceship-titanic/test.csv\n"
     ]
    }
   ],
   "source": [
    "# This Python 3 environment comes with many helpful analytics libraries installed\n",
    "# It is defined by the kaggle/python Docker image: https://github.com/kaggle/docker-python\n",
    "# For example, here's several helpful packages to load\n",
    "\n",
    "import numpy as np # linear algebra\n",
    "import pandas as pd # data processing, CSV file I/O (e.g. pd.read_csv)\n",
    "\n",
    "# Input data files are available in the read-only \"../input/\" directory\n",
    "# For example, running this (by clicking run or pressing Shift+Enter) will list all files under the input directory\n",
    "\n",
    "import os\n",
    "for dirname, _, filenames in os.walk('/kaggle/input'):\n",
    "    for filename in filenames:\n",
    "        print(os.path.join(dirname, filename))\n",
    "\n",
    "# You can write up to 20GB to the current directory (/kaggle/working/) that gets preserved as output when you create a version using \"Save & Run All\" \n",
    "# You can also write temporary files to /kaggle/temp/, but they won't be saved outside of the current session"
   ]
  },
  {
   "cell_type": "code",
   "execution_count": 2,
   "id": "c2d58951",
   "metadata": {
    "execution": {
     "iopub.execute_input": "2023-09-16T01:39:00.393901Z",
     "iopub.status.busy": "2023-09-16T01:39:00.393369Z",
     "iopub.status.idle": "2023-09-16T01:39:00.498240Z",
     "shell.execute_reply": "2023-09-16T01:39:00.497342Z"
    },
    "papermill": {
     "duration": 0.128325,
     "end_time": "2023-09-16T01:39:00.501114",
     "exception": false,
     "start_time": "2023-09-16T01:39:00.372789",
     "status": "completed"
    },
    "tags": []
   },
   "outputs": [],
   "source": [
    "train = pd.read_csv(\"/kaggle/input/spaceship-titanic/train.csv\")\n",
    "test = pd.read_csv(\"/kaggle/input/spaceship-titanic/test.csv\")\n",
    "sample = pd.read_csv(\"/kaggle/input/spaceship-titanic/sample_submission.csv\")"
   ]
  },
  {
   "cell_type": "code",
   "execution_count": 3,
   "id": "2c8964a6",
   "metadata": {
    "execution": {
     "iopub.execute_input": "2023-09-16T01:39:00.541425Z",
     "iopub.status.busy": "2023-09-16T01:39:00.541015Z",
     "iopub.status.idle": "2023-09-16T01:39:00.575324Z",
     "shell.execute_reply": "2023-09-16T01:39:00.574545Z"
    },
    "papermill": {
     "duration": 0.057646,
     "end_time": "2023-09-16T01:39:00.577991",
     "exception": false,
     "start_time": "2023-09-16T01:39:00.520345",
     "status": "completed"
    },
    "tags": []
   },
   "outputs": [
    {
     "data": {
      "text/plain": [
       "<bound method NDFrame.head of      PassengerId HomePlanet CryoSleep     Cabin    Destination   Age    VIP  \\\n",
       "0        0001_01     Europa     False     B/0/P    TRAPPIST-1e  39.0  False   \n",
       "1        0002_01      Earth     False     F/0/S    TRAPPIST-1e  24.0  False   \n",
       "2        0003_01     Europa     False     A/0/S    TRAPPIST-1e  58.0   True   \n",
       "3        0003_02     Europa     False     A/0/S    TRAPPIST-1e  33.0  False   \n",
       "4        0004_01      Earth     False     F/1/S    TRAPPIST-1e  16.0  False   \n",
       "...          ...        ...       ...       ...            ...   ...    ...   \n",
       "8688     9276_01     Europa     False    A/98/P    55 Cancri e  41.0   True   \n",
       "8689     9278_01      Earth      True  G/1499/S  PSO J318.5-22  18.0  False   \n",
       "8690     9279_01      Earth     False  G/1500/S    TRAPPIST-1e  26.0  False   \n",
       "8691     9280_01     Europa     False   E/608/S    55 Cancri e  32.0  False   \n",
       "8692     9280_02     Europa     False   E/608/S    TRAPPIST-1e  44.0  False   \n",
       "\n",
       "      RoomService  FoodCourt  ShoppingMall     Spa  VRDeck               Name  \\\n",
       "0             0.0        0.0           0.0     0.0     0.0    Maham Ofracculy   \n",
       "1           109.0        9.0          25.0   549.0    44.0       Juanna Vines   \n",
       "2            43.0     3576.0           0.0  6715.0    49.0      Altark Susent   \n",
       "3             0.0     1283.0         371.0  3329.0   193.0       Solam Susent   \n",
       "4           303.0       70.0         151.0   565.0     2.0  Willy Santantines   \n",
       "...           ...        ...           ...     ...     ...                ...   \n",
       "8688          0.0     6819.0           0.0  1643.0    74.0  Gravior Noxnuther   \n",
       "8689          0.0        0.0           0.0     0.0     0.0    Kurta Mondalley   \n",
       "8690          0.0        0.0        1872.0     1.0     0.0       Fayey Connon   \n",
       "8691          0.0     1049.0           0.0   353.0  3235.0   Celeon Hontichre   \n",
       "8692        126.0     4688.0           0.0     0.0    12.0   Propsh Hontichre   \n",
       "\n",
       "      Transported  \n",
       "0           False  \n",
       "1            True  \n",
       "2           False  \n",
       "3           False  \n",
       "4            True  \n",
       "...           ...  \n",
       "8688        False  \n",
       "8689        False  \n",
       "8690         True  \n",
       "8691        False  \n",
       "8692         True  \n",
       "\n",
       "[8693 rows x 14 columns]>"
      ]
     },
     "execution_count": 3,
     "metadata": {},
     "output_type": "execute_result"
    }
   ],
   "source": [
    "train.head"
   ]
  },
  {
   "cell_type": "code",
   "execution_count": 4,
   "id": "c36678c4",
   "metadata": {
    "execution": {
     "iopub.execute_input": "2023-09-16T01:39:00.619932Z",
     "iopub.status.busy": "2023-09-16T01:39:00.618517Z",
     "iopub.status.idle": "2023-09-16T01:39:00.635220Z",
     "shell.execute_reply": "2023-09-16T01:39:00.634217Z"
    },
    "papermill": {
     "duration": 0.040057,
     "end_time": "2023-09-16T01:39:00.637926",
     "exception": false,
     "start_time": "2023-09-16T01:39:00.597869",
     "status": "completed"
    },
    "tags": []
   },
   "outputs": [
    {
     "data": {
      "text/plain": [
       "PassengerId       0\n",
       "HomePlanet      201\n",
       "CryoSleep       217\n",
       "Cabin           199\n",
       "Destination     182\n",
       "Age             179\n",
       "VIP             203\n",
       "RoomService     181\n",
       "FoodCourt       183\n",
       "ShoppingMall    208\n",
       "Spa             183\n",
       "VRDeck          188\n",
       "Name            200\n",
       "Transported       0\n",
       "dtype: int64"
      ]
     },
     "execution_count": 4,
     "metadata": {},
     "output_type": "execute_result"
    }
   ],
   "source": [
    "train.isna().sum(axis=0)"
   ]
  },
  {
   "cell_type": "code",
   "execution_count": 5,
   "id": "62b42b88",
   "metadata": {
    "execution": {
     "iopub.execute_input": "2023-09-16T01:39:00.678610Z",
     "iopub.status.busy": "2023-09-16T01:39:00.678159Z",
     "iopub.status.idle": "2023-09-16T01:39:00.698822Z",
     "shell.execute_reply": "2023-09-16T01:39:00.697653Z"
    },
    "papermill": {
     "duration": 0.044623,
     "end_time": "2023-09-16T01:39:00.702054",
     "exception": false,
     "start_time": "2023-09-16T01:39:00.657431",
     "status": "completed"
    },
    "tags": []
   },
   "outputs": [
    {
     "name": "stdout",
     "output_type": "stream",
     "text": [
      "PassengerId     0.000000\n",
      "HomePlanet      0.023122\n",
      "CryoSleep       0.024963\n",
      "Cabin           0.022892\n",
      "Destination     0.020936\n",
      "Age             0.020591\n",
      "VIP             0.023352\n",
      "RoomService     0.020821\n",
      "FoodCourt       0.021051\n",
      "ShoppingMall    0.023927\n",
      "Spa             0.021051\n",
      "VRDeck          0.021627\n",
      "Name            0.023007\n",
      "Transported     0.000000\n",
      "dtype: float64\n",
      "PassengerId     0.000000\n",
      "HomePlanet      0.020341\n",
      "CryoSleep       0.021744\n",
      "Cabin           0.023381\n",
      "Destination     0.021510\n",
      "Age             0.021277\n",
      "VIP             0.021744\n",
      "RoomService     0.019172\n",
      "FoodCourt       0.024784\n",
      "ShoppingMall    0.022913\n",
      "Spa             0.023615\n",
      "VRDeck          0.018705\n",
      "Name            0.021978\n",
      "dtype: float64\n"
     ]
    }
   ],
   "source": [
    "print(train.isna().sum(axis=0)/train.shape[0])\n",
    "print(test.isna().sum(axis=0)/test.shape[0])\n"
   ]
  },
  {
   "cell_type": "code",
   "execution_count": 6,
   "id": "e9d43042",
   "metadata": {
    "execution": {
     "iopub.execute_input": "2023-09-16T01:39:00.744234Z",
     "iopub.status.busy": "2023-09-16T01:39:00.743802Z",
     "iopub.status.idle": "2023-09-16T01:39:00.749973Z",
     "shell.execute_reply": "2023-09-16T01:39:00.748525Z"
    },
    "papermill": {
     "duration": 0.031152,
     "end_time": "2023-09-16T01:39:00.753303",
     "exception": false,
     "start_time": "2023-09-16T01:39:00.722151",
     "status": "completed"
    },
    "tags": []
   },
   "outputs": [
    {
     "name": "stdout",
     "output_type": "stream",
     "text": [
      "(8693, 14)\n",
      "(4277, 13)\n",
      "(4277, 2)\n"
     ]
    }
   ],
   "source": [
    "print(train.shape)\n",
    "print(test.shape)\n",
    "print(sample.shape)"
   ]
  },
  {
   "cell_type": "code",
   "execution_count": 7,
   "id": "f275cc22",
   "metadata": {
    "execution": {
     "iopub.execute_input": "2023-09-16T01:39:00.796521Z",
     "iopub.status.busy": "2023-09-16T01:39:00.796034Z",
     "iopub.status.idle": "2023-09-16T01:39:00.806771Z",
     "shell.execute_reply": "2023-09-16T01:39:00.805481Z"
    },
    "papermill": {
     "duration": 0.036374,
     "end_time": "2023-09-16T01:39:00.809622",
     "exception": false,
     "start_time": "2023-09-16T01:39:00.773248",
     "status": "completed"
    },
    "tags": []
   },
   "outputs": [
    {
     "data": {
      "text/plain": [
       "PassengerId      object\n",
       "HomePlanet       object\n",
       "CryoSleep        object\n",
       "Cabin            object\n",
       "Destination      object\n",
       "Age             float64\n",
       "VIP              object\n",
       "RoomService     float64\n",
       "FoodCourt       float64\n",
       "ShoppingMall    float64\n",
       "Spa             float64\n",
       "VRDeck          float64\n",
       "Name             object\n",
       "Transported        bool\n",
       "dtype: object"
      ]
     },
     "execution_count": 7,
     "metadata": {},
     "output_type": "execute_result"
    }
   ],
   "source": [
    "train.dtypes"
   ]
  },
  {
   "cell_type": "code",
   "execution_count": 8,
   "id": "b7b0bcf2",
   "metadata": {
    "execution": {
     "iopub.execute_input": "2023-09-16T01:39:00.852177Z",
     "iopub.status.busy": "2023-09-16T01:39:00.851803Z",
     "iopub.status.idle": "2023-09-16T01:39:00.889030Z",
     "shell.execute_reply": "2023-09-16T01:39:00.887712Z"
    },
    "papermill": {
     "duration": 0.062159,
     "end_time": "2023-09-16T01:39:00.891841",
     "exception": false,
     "start_time": "2023-09-16T01:39:00.829682",
     "status": "completed"
    },
    "tags": []
   },
   "outputs": [
    {
     "data": {
      "text/html": [
       "<div>\n",
       "<style scoped>\n",
       "    .dataframe tbody tr th:only-of-type {\n",
       "        vertical-align: middle;\n",
       "    }\n",
       "\n",
       "    .dataframe tbody tr th {\n",
       "        vertical-align: top;\n",
       "    }\n",
       "\n",
       "    .dataframe thead th {\n",
       "        text-align: right;\n",
       "    }\n",
       "</style>\n",
       "<table border=\"1\" class=\"dataframe\">\n",
       "  <thead>\n",
       "    <tr style=\"text-align: right;\">\n",
       "      <th></th>\n",
       "      <th>Age</th>\n",
       "      <th>RoomService</th>\n",
       "      <th>FoodCourt</th>\n",
       "      <th>ShoppingMall</th>\n",
       "      <th>Spa</th>\n",
       "      <th>VRDeck</th>\n",
       "    </tr>\n",
       "  </thead>\n",
       "  <tbody>\n",
       "    <tr>\n",
       "      <th>count</th>\n",
       "      <td>8514.000000</td>\n",
       "      <td>8512.000000</td>\n",
       "      <td>8510.000000</td>\n",
       "      <td>8485.000000</td>\n",
       "      <td>8510.000000</td>\n",
       "      <td>8505.000000</td>\n",
       "    </tr>\n",
       "    <tr>\n",
       "      <th>mean</th>\n",
       "      <td>28.827930</td>\n",
       "      <td>224.687617</td>\n",
       "      <td>458.077203</td>\n",
       "      <td>173.729169</td>\n",
       "      <td>311.138778</td>\n",
       "      <td>304.854791</td>\n",
       "    </tr>\n",
       "    <tr>\n",
       "      <th>std</th>\n",
       "      <td>14.489021</td>\n",
       "      <td>666.717663</td>\n",
       "      <td>1611.489240</td>\n",
       "      <td>604.696458</td>\n",
       "      <td>1136.705535</td>\n",
       "      <td>1145.717189</td>\n",
       "    </tr>\n",
       "    <tr>\n",
       "      <th>min</th>\n",
       "      <td>0.000000</td>\n",
       "      <td>0.000000</td>\n",
       "      <td>0.000000</td>\n",
       "      <td>0.000000</td>\n",
       "      <td>0.000000</td>\n",
       "      <td>0.000000</td>\n",
       "    </tr>\n",
       "    <tr>\n",
       "      <th>25%</th>\n",
       "      <td>19.000000</td>\n",
       "      <td>0.000000</td>\n",
       "      <td>0.000000</td>\n",
       "      <td>0.000000</td>\n",
       "      <td>0.000000</td>\n",
       "      <td>0.000000</td>\n",
       "    </tr>\n",
       "    <tr>\n",
       "      <th>50%</th>\n",
       "      <td>27.000000</td>\n",
       "      <td>0.000000</td>\n",
       "      <td>0.000000</td>\n",
       "      <td>0.000000</td>\n",
       "      <td>0.000000</td>\n",
       "      <td>0.000000</td>\n",
       "    </tr>\n",
       "    <tr>\n",
       "      <th>75%</th>\n",
       "      <td>38.000000</td>\n",
       "      <td>47.000000</td>\n",
       "      <td>76.000000</td>\n",
       "      <td>27.000000</td>\n",
       "      <td>59.000000</td>\n",
       "      <td>46.000000</td>\n",
       "    </tr>\n",
       "    <tr>\n",
       "      <th>max</th>\n",
       "      <td>79.000000</td>\n",
       "      <td>14327.000000</td>\n",
       "      <td>29813.000000</td>\n",
       "      <td>23492.000000</td>\n",
       "      <td>22408.000000</td>\n",
       "      <td>24133.000000</td>\n",
       "    </tr>\n",
       "  </tbody>\n",
       "</table>\n",
       "</div>"
      ],
      "text/plain": [
       "               Age   RoomService     FoodCourt  ShoppingMall           Spa  \\\n",
       "count  8514.000000   8512.000000   8510.000000   8485.000000   8510.000000   \n",
       "mean     28.827930    224.687617    458.077203    173.729169    311.138778   \n",
       "std      14.489021    666.717663   1611.489240    604.696458   1136.705535   \n",
       "min       0.000000      0.000000      0.000000      0.000000      0.000000   \n",
       "25%      19.000000      0.000000      0.000000      0.000000      0.000000   \n",
       "50%      27.000000      0.000000      0.000000      0.000000      0.000000   \n",
       "75%      38.000000     47.000000     76.000000     27.000000     59.000000   \n",
       "max      79.000000  14327.000000  29813.000000  23492.000000  22408.000000   \n",
       "\n",
       "             VRDeck  \n",
       "count   8505.000000  \n",
       "mean     304.854791  \n",
       "std     1145.717189  \n",
       "min        0.000000  \n",
       "25%        0.000000  \n",
       "50%        0.000000  \n",
       "75%       46.000000  \n",
       "max    24133.000000  "
      ]
     },
     "execution_count": 8,
     "metadata": {},
     "output_type": "execute_result"
    }
   ],
   "source": [
    "train.describe()"
   ]
  },
  {
   "cell_type": "code",
   "execution_count": 9,
   "id": "dae71e81",
   "metadata": {
    "execution": {
     "iopub.execute_input": "2023-09-16T01:39:00.934311Z",
     "iopub.status.busy": "2023-09-16T01:39:00.933823Z",
     "iopub.status.idle": "2023-09-16T01:39:00.944215Z",
     "shell.execute_reply": "2023-09-16T01:39:00.942674Z"
    },
    "papermill": {
     "duration": 0.034402,
     "end_time": "2023-09-16T01:39:00.946825",
     "exception": false,
     "start_time": "2023-09-16T01:39:00.912423",
     "status": "completed"
    },
    "tags": []
   },
   "outputs": [],
   "source": [
    "train[\"billing_moving\"] =train[\"RoomService\"] + train[\"Spa\"] + train[\"VRDeck\"] \n",
    "train[\"billing_fixed\"] = train[\"FoodCourt\"]  + train[\"ShoppingMall\"]  "
   ]
  },
  {
   "cell_type": "code",
   "execution_count": 10,
   "id": "abddf4b9",
   "metadata": {
    "execution": {
     "iopub.execute_input": "2023-09-16T01:39:00.989521Z",
     "iopub.status.busy": "2023-09-16T01:39:00.988630Z",
     "iopub.status.idle": "2023-09-16T01:39:00.997101Z",
     "shell.execute_reply": "2023-09-16T01:39:00.996151Z"
    },
    "papermill": {
     "duration": 0.033259,
     "end_time": "2023-09-16T01:39:00.999939",
     "exception": false,
     "start_time": "2023-09-16T01:39:00.966680",
     "status": "completed"
    },
    "tags": []
   },
   "outputs": [],
   "source": [
    "test[\"billing_moving\"] =test[\"RoomService\"] + test[\"Spa\"] + test[\"VRDeck\"] \n",
    "test[\"billing_fixed\"] = test[\"FoodCourt\"]  + test[\"ShoppingMall\"]  "
   ]
  },
  {
   "cell_type": "code",
   "execution_count": 11,
   "id": "1908baba",
   "metadata": {
    "execution": {
     "iopub.execute_input": "2023-09-16T01:39:01.043274Z",
     "iopub.status.busy": "2023-09-16T01:39:01.042798Z",
     "iopub.status.idle": "2023-09-16T01:39:01.053943Z",
     "shell.execute_reply": "2023-09-16T01:39:01.052530Z"
    },
    "papermill": {
     "duration": 0.035543,
     "end_time": "2023-09-16T01:39:01.056431",
     "exception": false,
     "start_time": "2023-09-16T01:39:01.020888",
     "status": "completed"
    },
    "tags": []
   },
   "outputs": [],
   "source": [
    "train[\"HomeDestination\"] = train[\"HomePlanet\"] + train[\"Destination\"]"
   ]
  },
  {
   "cell_type": "code",
   "execution_count": 12,
   "id": "c1967d45",
   "metadata": {
    "execution": {
     "iopub.execute_input": "2023-09-16T01:39:01.190921Z",
     "iopub.status.busy": "2023-09-16T01:39:01.190197Z",
     "iopub.status.idle": "2023-09-16T01:39:01.196391Z",
     "shell.execute_reply": "2023-09-16T01:39:01.195540Z"
    },
    "papermill": {
     "duration": 0.121515,
     "end_time": "2023-09-16T01:39:01.198782",
     "exception": false,
     "start_time": "2023-09-16T01:39:01.077267",
     "status": "completed"
    },
    "tags": []
   },
   "outputs": [
    {
     "name": "stdout",
     "output_type": "stream",
     "text": [
      "Index(['PassengerId', 'HomePlanet', 'CryoSleep', 'Cabin', 'Destination', 'VIP',\n",
      "       'Name', 'HomeDestination'],\n",
      "      dtype='object')\n"
     ]
    }
   ],
   "source": [
    "categorical = train.dtypes[train.dtypes == \"object\"].index\n",
    "print(categorical)"
   ]
  },
  {
   "cell_type": "code",
   "execution_count": 13,
   "id": "7a7c879b",
   "metadata": {
    "execution": {
     "iopub.execute_input": "2023-09-16T01:39:01.241328Z",
     "iopub.status.busy": "2023-09-16T01:39:01.240918Z",
     "iopub.status.idle": "2023-09-16T01:39:01.306308Z",
     "shell.execute_reply": "2023-09-16T01:39:01.304983Z"
    },
    "papermill": {
     "duration": 0.090066,
     "end_time": "2023-09-16T01:39:01.309257",
     "exception": false,
     "start_time": "2023-09-16T01:39:01.219191",
     "status": "completed"
    },
    "tags": []
   },
   "outputs": [
    {
     "data": {
      "text/html": [
       "<div>\n",
       "<style scoped>\n",
       "    .dataframe tbody tr th:only-of-type {\n",
       "        vertical-align: middle;\n",
       "    }\n",
       "\n",
       "    .dataframe tbody tr th {\n",
       "        vertical-align: top;\n",
       "    }\n",
       "\n",
       "    .dataframe thead th {\n",
       "        text-align: right;\n",
       "    }\n",
       "</style>\n",
       "<table border=\"1\" class=\"dataframe\">\n",
       "  <thead>\n",
       "    <tr style=\"text-align: right;\">\n",
       "      <th></th>\n",
       "      <th>PassengerId</th>\n",
       "      <th>HomePlanet</th>\n",
       "      <th>CryoSleep</th>\n",
       "      <th>Cabin</th>\n",
       "      <th>Destination</th>\n",
       "      <th>VIP</th>\n",
       "      <th>Name</th>\n",
       "      <th>HomeDestination</th>\n",
       "    </tr>\n",
       "  </thead>\n",
       "  <tbody>\n",
       "    <tr>\n",
       "      <th>count</th>\n",
       "      <td>8693</td>\n",
       "      <td>8492</td>\n",
       "      <td>8476</td>\n",
       "      <td>8494</td>\n",
       "      <td>8511</td>\n",
       "      <td>8490</td>\n",
       "      <td>8493</td>\n",
       "      <td>8314</td>\n",
       "    </tr>\n",
       "    <tr>\n",
       "      <th>unique</th>\n",
       "      <td>8693</td>\n",
       "      <td>3</td>\n",
       "      <td>2</td>\n",
       "      <td>6560</td>\n",
       "      <td>3</td>\n",
       "      <td>2</td>\n",
       "      <td>8473</td>\n",
       "      <td>9</td>\n",
       "    </tr>\n",
       "    <tr>\n",
       "      <th>top</th>\n",
       "      <td>0001_01</td>\n",
       "      <td>Earth</td>\n",
       "      <td>False</td>\n",
       "      <td>G/734/S</td>\n",
       "      <td>TRAPPIST-1e</td>\n",
       "      <td>False</td>\n",
       "      <td>Gollux Reedall</td>\n",
       "      <td>EarthTRAPPIST-1e</td>\n",
       "    </tr>\n",
       "    <tr>\n",
       "      <th>freq</th>\n",
       "      <td>1</td>\n",
       "      <td>4602</td>\n",
       "      <td>5439</td>\n",
       "      <td>8</td>\n",
       "      <td>5915</td>\n",
       "      <td>8291</td>\n",
       "      <td>2</td>\n",
       "      <td>3101</td>\n",
       "    </tr>\n",
       "  </tbody>\n",
       "</table>\n",
       "</div>"
      ],
      "text/plain": [
       "       PassengerId HomePlanet CryoSleep    Cabin  Destination    VIP  \\\n",
       "count         8693       8492      8476     8494         8511   8490   \n",
       "unique        8693          3         2     6560            3      2   \n",
       "top        0001_01      Earth     False  G/734/S  TRAPPIST-1e  False   \n",
       "freq             1       4602      5439        8         5915   8291   \n",
       "\n",
       "                  Name   HomeDestination  \n",
       "count             8493              8314  \n",
       "unique            8473                 9  \n",
       "top     Gollux Reedall  EarthTRAPPIST-1e  \n",
       "freq                 2              3101  "
      ]
     },
     "execution_count": 13,
     "metadata": {},
     "output_type": "execute_result"
    }
   ],
   "source": [
    "train[categorical].describe()"
   ]
  },
  {
   "cell_type": "code",
   "execution_count": 14,
   "id": "650012af",
   "metadata": {
    "execution": {
     "iopub.execute_input": "2023-09-16T01:39:01.351198Z",
     "iopub.status.busy": "2023-09-16T01:39:01.350788Z",
     "iopub.status.idle": "2023-09-16T01:39:01.383565Z",
     "shell.execute_reply": "2023-09-16T01:39:01.381580Z"
    },
    "papermill": {
     "duration": 0.056884,
     "end_time": "2023-09-16T01:39:01.386165",
     "exception": false,
     "start_time": "2023-09-16T01:39:01.329281",
     "status": "completed"
    },
    "tags": []
   },
   "outputs": [
    {
     "name": "stdout",
     "output_type": "stream",
     "text": [
      "<class 'pandas.core.frame.DataFrame'>\n",
      "RangeIndex: 8693 entries, 0 to 8692\n",
      "Data columns (total 17 columns):\n",
      " #   Column           Non-Null Count  Dtype  \n",
      "---  ------           --------------  -----  \n",
      " 0   PassengerId      8693 non-null   object \n",
      " 1   HomePlanet       8492 non-null   object \n",
      " 2   CryoSleep        8476 non-null   object \n",
      " 3   Cabin            8494 non-null   object \n",
      " 4   Destination      8511 non-null   object \n",
      " 5   Age              8514 non-null   float64\n",
      " 6   VIP              8490 non-null   object \n",
      " 7   RoomService      8512 non-null   float64\n",
      " 8   FoodCourt        8510 non-null   float64\n",
      " 9   ShoppingMall     8485 non-null   float64\n",
      " 10  Spa              8510 non-null   float64\n",
      " 11  VRDeck           8505 non-null   float64\n",
      " 12  Name             8493 non-null   object \n",
      " 13  Transported      8693 non-null   bool   \n",
      " 14  billing_moving   8149 non-null   float64\n",
      " 15  billing_fixed    8304 non-null   float64\n",
      " 16  HomeDestination  8314 non-null   object \n",
      "dtypes: bool(1), float64(8), object(8)\n",
      "memory usage: 1.1+ MB\n"
     ]
    }
   ],
   "source": [
    "train.info()"
   ]
  },
  {
   "cell_type": "code",
   "execution_count": 15,
   "id": "be6f4153",
   "metadata": {
    "execution": {
     "iopub.execute_input": "2023-09-16T01:39:01.427911Z",
     "iopub.status.busy": "2023-09-16T01:39:01.427421Z",
     "iopub.status.idle": "2023-09-16T01:39:01.439689Z",
     "shell.execute_reply": "2023-09-16T01:39:01.438548Z"
    },
    "papermill": {
     "duration": 0.036413,
     "end_time": "2023-09-16T01:39:01.442359",
     "exception": false,
     "start_time": "2023-09-16T01:39:01.405946",
     "status": "completed"
    },
    "tags": []
   },
   "outputs": [
    {
     "data": {
      "text/plain": [
       "count     8693\n",
       "unique       2\n",
       "top       True\n",
       "freq      4378\n",
       "Name: Transported, dtype: object"
      ]
     },
     "execution_count": 15,
     "metadata": {},
     "output_type": "execute_result"
    }
   ],
   "source": [
    "train[\"Transported\"].describe()"
   ]
  },
  {
   "cell_type": "markdown",
   "id": "92d8d460",
   "metadata": {
    "papermill": {
     "duration": 0.019864,
     "end_time": "2023-09-16T01:39:01.482891",
     "exception": false,
     "start_time": "2023-09-16T01:39:01.463027",
     "status": "completed"
    },
    "tags": []
   },
   "source": [
    "Exploratory data analysis \n",
    "outliers "
   ]
  },
  {
   "cell_type": "code",
   "execution_count": 16,
   "id": "eb1d0bea",
   "metadata": {
    "execution": {
     "iopub.execute_input": "2023-09-16T01:39:01.524376Z",
     "iopub.status.busy": "2023-09-16T01:39:01.524010Z",
     "iopub.status.idle": "2023-09-16T01:39:01.539663Z",
     "shell.execute_reply": "2023-09-16T01:39:01.538345Z"
    },
    "papermill": {
     "duration": 0.039484,
     "end_time": "2023-09-16T01:39:01.542169",
     "exception": false,
     "start_time": "2023-09-16T01:39:01.502685",
     "status": "completed"
    },
    "tags": []
   },
   "outputs": [
    {
     "data": {
      "text/plain": [
       "count        8693\n",
       "unique       8693\n",
       "top       0001_01\n",
       "freq            1\n",
       "Name: PassengerId, dtype: object"
      ]
     },
     "execution_count": 16,
     "metadata": {},
     "output_type": "execute_result"
    }
   ],
   "source": [
    "train[\"PassengerId\"].describe()"
   ]
  },
  {
   "cell_type": "code",
   "execution_count": 17,
   "id": "e5f695e6",
   "metadata": {
    "execution": {
     "iopub.execute_input": "2023-09-16T01:39:01.588853Z",
     "iopub.status.busy": "2023-09-16T01:39:01.588371Z",
     "iopub.status.idle": "2023-09-16T01:39:01.606117Z",
     "shell.execute_reply": "2023-09-16T01:39:01.604736Z"
    },
    "papermill": {
     "duration": 0.044627,
     "end_time": "2023-09-16T01:39:01.608767",
     "exception": false,
     "start_time": "2023-09-16T01:39:01.564140",
     "status": "completed"
    },
    "tags": []
   },
   "outputs": [
    {
     "data": {
      "text/plain": [
       "count               8493\n",
       "unique              8473\n",
       "top       Gollux Reedall\n",
       "freq                   2\n",
       "Name: Name, dtype: object"
      ]
     },
     "execution_count": 17,
     "metadata": {},
     "output_type": "execute_result"
    }
   ],
   "source": [
    "train[\"Name\"].describe()"
   ]
  },
  {
   "cell_type": "code",
   "execution_count": 18,
   "id": "c4f64c26",
   "metadata": {
    "execution": {
     "iopub.execute_input": "2023-09-16T01:39:01.654638Z",
     "iopub.status.busy": "2023-09-16T01:39:01.654204Z",
     "iopub.status.idle": "2023-09-16T01:39:01.670647Z",
     "shell.execute_reply": "2023-09-16T01:39:01.669133Z"
    },
    "papermill": {
     "duration": 0.043022,
     "end_time": "2023-09-16T01:39:01.673260",
     "exception": false,
     "start_time": "2023-09-16T01:39:01.630238",
     "status": "completed"
    },
    "tags": []
   },
   "outputs": [
    {
     "data": {
      "text/plain": [
       "count        8494\n",
       "unique       6560\n",
       "top       G/734/S\n",
       "freq            8\n",
       "Name: Cabin, dtype: object"
      ]
     },
     "execution_count": 18,
     "metadata": {},
     "output_type": "execute_result"
    }
   ],
   "source": [
    "train[\"Cabin\"].describe()"
   ]
  },
  {
   "cell_type": "code",
   "execution_count": 19,
   "id": "bbe74544",
   "metadata": {
    "execution": {
     "iopub.execute_input": "2023-09-16T01:39:01.718230Z",
     "iopub.status.busy": "2023-09-16T01:39:01.717832Z",
     "iopub.status.idle": "2023-09-16T01:39:01.727952Z",
     "shell.execute_reply": "2023-09-16T01:39:01.726813Z"
    },
    "papermill": {
     "duration": 0.035441,
     "end_time": "2023-09-16T01:39:01.730212",
     "exception": false,
     "start_time": "2023-09-16T01:39:01.694771",
     "status": "completed"
    },
    "tags": []
   },
   "outputs": [],
   "source": [
    "new_cryosleep = pd.Categorical(train[\"CryoSleep\"])\n",
    "new_vip = pd.Categorical(train[\"VIP\"])"
   ]
  },
  {
   "cell_type": "code",
   "execution_count": 20,
   "id": "96af67fd",
   "metadata": {
    "execution": {
     "iopub.execute_input": "2023-09-16T01:39:01.777856Z",
     "iopub.status.busy": "2023-09-16T01:39:01.777487Z",
     "iopub.status.idle": "2023-09-16T01:39:01.781356Z",
     "shell.execute_reply": "2023-09-16T01:39:01.780549Z"
    },
    "papermill": {
     "duration": 0.031474,
     "end_time": "2023-09-16T01:39:01.784210",
     "exception": false,
     "start_time": "2023-09-16T01:39:01.752736",
     "status": "completed"
    },
    "tags": []
   },
   "outputs": [],
   "source": [
    "# add na here for categorical (and then in object ... later )\n"
   ]
  },
  {
   "cell_type": "code",
   "execution_count": 21,
   "id": "9e6e2f74",
   "metadata": {
    "execution": {
     "iopub.execute_input": "2023-09-16T01:39:01.829228Z",
     "iopub.status.busy": "2023-09-16T01:39:01.828165Z",
     "iopub.status.idle": "2023-09-16T01:39:01.849553Z",
     "shell.execute_reply": "2023-09-16T01:39:01.848308Z"
    },
    "papermill": {
     "duration": 0.046927,
     "end_time": "2023-09-16T01:39:01.852504",
     "exception": false,
     "start_time": "2023-09-16T01:39:01.805577",
     "status": "completed"
    },
    "tags": []
   },
   "outputs": [],
   "source": [
    "char_cabin = train[\"Cabin\"].astype(str) # Convert data to str\n",
    "\n",
    "Deck = np.array([cabin[0] if cabin != \"nan\" else \"unknown\" for cabin in char_cabin])\n",
    "Deck = pd.Categorical(Deck)\n",
    "\n",
    "Deck.describe()\n",
    "train['Deck'] = Deck"
   ]
  },
  {
   "cell_type": "code",
   "execution_count": 22,
   "id": "291eb6f9",
   "metadata": {
    "execution": {
     "iopub.execute_input": "2023-09-16T01:39:01.896915Z",
     "iopub.status.busy": "2023-09-16T01:39:01.896384Z",
     "iopub.status.idle": "2023-09-16T01:39:01.911551Z",
     "shell.execute_reply": "2023-09-16T01:39:01.910262Z"
    },
    "papermill": {
     "duration": 0.040097,
     "end_time": "2023-09-16T01:39:01.913973",
     "exception": false,
     "start_time": "2023-09-16T01:39:01.873876",
     "status": "completed"
    },
    "tags": []
   },
   "outputs": [],
   "source": [
    "char_cabin = test[\"Cabin\"].astype(str) # Convert data to str\n",
    "\n",
    "Deck = np.array([cabin[0] if cabin != \"nan\" else \"unknown\" for cabin in char_cabin]) # Take first letter\n",
    "\n",
    "Deck = pd.Categorical(Deck)\n",
    "\n",
    "Deck.describe()\n",
    "test['Deck'] = Deck"
   ]
  },
  {
   "cell_type": "code",
   "execution_count": null,
   "id": "4392c2af",
   "metadata": {
    "papermill": {
     "duration": 0.020207,
     "end_time": "2023-09-16T01:39:01.955092",
     "exception": false,
     "start_time": "2023-09-16T01:39:01.934885",
     "status": "completed"
    },
    "tags": []
   },
   "outputs": [],
   "source": []
  },
  {
   "cell_type": "code",
   "execution_count": 23,
   "id": "91e3b3b2",
   "metadata": {
    "execution": {
     "iopub.execute_input": "2023-09-16T01:39:01.998703Z",
     "iopub.status.busy": "2023-09-16T01:39:01.998205Z",
     "iopub.status.idle": "2023-09-16T01:39:02.016893Z",
     "shell.execute_reply": "2023-09-16T01:39:02.015659Z"
    },
    "papermill": {
     "duration": 0.043412,
     "end_time": "2023-09-16T01:39:02.019259",
     "exception": false,
     "start_time": "2023-09-16T01:39:01.975847",
     "status": "completed"
    },
    "tags": []
   },
   "outputs": [],
   "source": [
    "char_cabin = train[\"Cabin\"].astype(str) # Convert data to str\n",
    "\n",
    "Side = np.array([cabin[-1] if cabin != \"nan\" else \"unknown\" for cabin in char_cabin]) # Take first letter\n",
    "\n",
    "Side = pd.Categorical(Side)\n",
    "\n",
    "Side .describe()\n",
    "train[\"Side\"] = Side"
   ]
  },
  {
   "cell_type": "code",
   "execution_count": 24,
   "id": "5fa20431",
   "metadata": {
    "execution": {
     "iopub.execute_input": "2023-09-16T01:39:02.062809Z",
     "iopub.status.busy": "2023-09-16T01:39:02.062308Z",
     "iopub.status.idle": "2023-09-16T01:39:02.076745Z",
     "shell.execute_reply": "2023-09-16T01:39:02.075511Z"
    },
    "papermill": {
     "duration": 0.039241,
     "end_time": "2023-09-16T01:39:02.079356",
     "exception": false,
     "start_time": "2023-09-16T01:39:02.040115",
     "status": "completed"
    },
    "tags": []
   },
   "outputs": [],
   "source": [
    "char_cabin = test[\"Cabin\"].astype(str) # Convert data to str\n",
    "\n",
    "Side = np.array([cabin[-1] if cabin != \"nan\" else \"unknown\" for cabin in char_cabin]) # Take first letter\n",
    "\n",
    "Side = pd.Categorical(Side)\n",
    "\n",
    "Side .describe()\n",
    "test[\"Side\"] = Side"
   ]
  },
  {
   "cell_type": "code",
   "execution_count": 25,
   "id": "b3128d5c",
   "metadata": {
    "execution": {
     "iopub.execute_input": "2023-09-16T01:39:02.123240Z",
     "iopub.status.busy": "2023-09-16T01:39:02.122768Z",
     "iopub.status.idle": "2023-09-16T01:39:02.152719Z",
     "shell.execute_reply": "2023-09-16T01:39:02.151750Z"
    },
    "papermill": {
     "duration": 0.054778,
     "end_time": "2023-09-16T01:39:02.154836",
     "exception": false,
     "start_time": "2023-09-16T01:39:02.100058",
     "status": "completed"
    },
    "tags": []
   },
   "outputs": [
    {
     "data": {
      "text/html": [
       "<div>\n",
       "<style scoped>\n",
       "    .dataframe tbody tr th:only-of-type {\n",
       "        vertical-align: middle;\n",
       "    }\n",
       "\n",
       "    .dataframe tbody tr th {\n",
       "        vertical-align: top;\n",
       "    }\n",
       "\n",
       "    .dataframe thead th {\n",
       "        text-align: right;\n",
       "    }\n",
       "</style>\n",
       "<table border=\"1\" class=\"dataframe\">\n",
       "  <thead>\n",
       "    <tr style=\"text-align: right;\">\n",
       "      <th></th>\n",
       "      <th>counts</th>\n",
       "      <th>freqs</th>\n",
       "    </tr>\n",
       "    <tr>\n",
       "      <th>categories</th>\n",
       "      <th></th>\n",
       "      <th></th>\n",
       "    </tr>\n",
       "  </thead>\n",
       "  <tbody>\n",
       "    <tr>\n",
       "      <th>AP</th>\n",
       "      <td>117</td>\n",
       "      <td>0.013459</td>\n",
       "    </tr>\n",
       "    <tr>\n",
       "      <th>AS</th>\n",
       "      <td>139</td>\n",
       "      <td>0.015990</td>\n",
       "    </tr>\n",
       "    <tr>\n",
       "      <th>BP</th>\n",
       "      <td>353</td>\n",
       "      <td>0.040607</td>\n",
       "    </tr>\n",
       "    <tr>\n",
       "      <th>BS</th>\n",
       "      <td>426</td>\n",
       "      <td>0.049005</td>\n",
       "    </tr>\n",
       "    <tr>\n",
       "      <th>CP</th>\n",
       "      <td>341</td>\n",
       "      <td>0.039227</td>\n",
       "    </tr>\n",
       "    <tr>\n",
       "      <th>CS</th>\n",
       "      <td>406</td>\n",
       "      <td>0.046704</td>\n",
       "    </tr>\n",
       "    <tr>\n",
       "      <th>DP</th>\n",
       "      <td>248</td>\n",
       "      <td>0.028529</td>\n",
       "    </tr>\n",
       "    <tr>\n",
       "      <th>DS</th>\n",
       "      <td>230</td>\n",
       "      <td>0.026458</td>\n",
       "    </tr>\n",
       "    <tr>\n",
       "      <th>EP</th>\n",
       "      <td>429</td>\n",
       "      <td>0.049350</td>\n",
       "    </tr>\n",
       "    <tr>\n",
       "      <th>ES</th>\n",
       "      <td>447</td>\n",
       "      <td>0.051421</td>\n",
       "    </tr>\n",
       "    <tr>\n",
       "      <th>FP</th>\n",
       "      <td>1438</td>\n",
       "      <td>0.165420</td>\n",
       "    </tr>\n",
       "    <tr>\n",
       "      <th>FS</th>\n",
       "      <td>1356</td>\n",
       "      <td>0.155988</td>\n",
       "    </tr>\n",
       "    <tr>\n",
       "      <th>GP</th>\n",
       "      <td>1276</td>\n",
       "      <td>0.146785</td>\n",
       "    </tr>\n",
       "    <tr>\n",
       "      <th>GS</th>\n",
       "      <td>1283</td>\n",
       "      <td>0.147590</td>\n",
       "    </tr>\n",
       "    <tr>\n",
       "      <th>TP</th>\n",
       "      <td>4</td>\n",
       "      <td>0.000460</td>\n",
       "    </tr>\n",
       "    <tr>\n",
       "      <th>TS</th>\n",
       "      <td>1</td>\n",
       "      <td>0.000115</td>\n",
       "    </tr>\n",
       "    <tr>\n",
       "      <th>unknown</th>\n",
       "      <td>199</td>\n",
       "      <td>0.022892</td>\n",
       "    </tr>\n",
       "  </tbody>\n",
       "</table>\n",
       "</div>"
      ],
      "text/plain": [
       "            counts     freqs\n",
       "categories                  \n",
       "AP             117  0.013459\n",
       "AS             139  0.015990\n",
       "BP             353  0.040607\n",
       "BS             426  0.049005\n",
       "CP             341  0.039227\n",
       "CS             406  0.046704\n",
       "DP             248  0.028529\n",
       "DS             230  0.026458\n",
       "EP             429  0.049350\n",
       "ES             447  0.051421\n",
       "FP            1438  0.165420\n",
       "FS            1356  0.155988\n",
       "GP            1276  0.146785\n",
       "GS            1283  0.147590\n",
       "TP               4  0.000460\n",
       "TS               1  0.000115\n",
       "unknown        199  0.022892"
      ]
     },
     "execution_count": 25,
     "metadata": {},
     "output_type": "execute_result"
    }
   ],
   "source": [
    "char_cabin = train[\"Cabin\"].astype(str) # Convert data to str\n",
    "\n",
    "DeckSide = np.array([cabin[0] + cabin[-1] if cabin != \"nan\" else \"unknown\"  for cabin in char_cabin ]) # Take first letter\n",
    "\n",
    "DeckSide = pd.Categorical(DeckSide)\n",
    "\n",
    "DeckSide .describe()"
   ]
  },
  {
   "cell_type": "code",
   "execution_count": 26,
   "id": "2cee60c4",
   "metadata": {
    "execution": {
     "iopub.execute_input": "2023-09-16T01:39:02.202260Z",
     "iopub.status.busy": "2023-09-16T01:39:02.201188Z",
     "iopub.status.idle": "2023-09-16T01:39:02.207613Z",
     "shell.execute_reply": "2023-09-16T01:39:02.206506Z"
    },
    "papermill": {
     "duration": 0.031986,
     "end_time": "2023-09-16T01:39:02.210096",
     "exception": false,
     "start_time": "2023-09-16T01:39:02.178110",
     "status": "completed"
    },
    "tags": []
   },
   "outputs": [],
   "source": [
    "train[\"DeckSide\"] = DeckSide"
   ]
  },
  {
   "cell_type": "code",
   "execution_count": 27,
   "id": "72c11627",
   "metadata": {
    "execution": {
     "iopub.execute_input": "2023-09-16T01:39:02.253754Z",
     "iopub.status.busy": "2023-09-16T01:39:02.253337Z",
     "iopub.status.idle": "2023-09-16T01:39:02.271144Z",
     "shell.execute_reply": "2023-09-16T01:39:02.270165Z"
    },
    "papermill": {
     "duration": 0.042407,
     "end_time": "2023-09-16T01:39:02.273303",
     "exception": false,
     "start_time": "2023-09-16T01:39:02.230896",
     "status": "completed"
    },
    "tags": []
   },
   "outputs": [],
   "source": [
    "char_cabin = train[\"Cabin\"].astype(str) # Convert data to str\n",
    "\n",
    "# Filter out empty strings or strings with fewer than 3 characters\n",
    "num_char_cabin = [cabin[2:-2] for cabin in char_cabin]\n",
    "\n",
    "# Extract numerical values and convert them to integers\n",
    "cabin_num = np.array([int(cabin[2:-2]) if cabin != \"nan\" else 0 for cabin in char_cabin])\n",
    "\n",
    "# Create a DataFrame from the extracted numerical values\n",
    "cabin_num_df = pd.DataFrame(cabin_num)\n",
    "train['CabinNum'] = cabin_num_df"
   ]
  },
  {
   "cell_type": "code",
   "execution_count": 28,
   "id": "b10296a3",
   "metadata": {
    "execution": {
     "iopub.execute_input": "2023-09-16T01:39:02.318643Z",
     "iopub.status.busy": "2023-09-16T01:39:02.317943Z",
     "iopub.status.idle": "2023-09-16T01:39:02.324590Z",
     "shell.execute_reply": "2023-09-16T01:39:02.323754Z"
    },
    "papermill": {
     "duration": 0.032332,
     "end_time": "2023-09-16T01:39:02.326784",
     "exception": false,
     "start_time": "2023-09-16T01:39:02.294452",
     "status": "completed"
    },
    "tags": []
   },
   "outputs": [
    {
     "data": {
      "text/plain": [
       "0"
      ]
     },
     "execution_count": 28,
     "metadata": {},
     "output_type": "execute_result"
    }
   ],
   "source": [
    "cabin_num[15]"
   ]
  },
  {
   "cell_type": "code",
   "execution_count": 29,
   "id": "3f5defe7",
   "metadata": {
    "execution": {
     "iopub.execute_input": "2023-09-16T01:39:02.371848Z",
     "iopub.status.busy": "2023-09-16T01:39:02.371329Z",
     "iopub.status.idle": "2023-09-16T01:39:02.385084Z",
     "shell.execute_reply": "2023-09-16T01:39:02.383883Z"
    },
    "papermill": {
     "duration": 0.039297,
     "end_time": "2023-09-16T01:39:02.387534",
     "exception": false,
     "start_time": "2023-09-16T01:39:02.348237",
     "status": "completed"
    },
    "tags": []
   },
   "outputs": [],
   "source": [
    "char_cabin = test[\"Cabin\"].astype(str) # Convert data to str\n",
    "\n",
    "# Filter out empty strings or strings with fewer than 3 characters\n",
    "valid_char_cabin = [cabin for cabin in char_cabin if cabin != '' and len(cabin) >= 5]\n",
    "\n",
    "# Extract numerical values and convert them to integers\n",
    "cabin_num = np.array([int(cabin[2:-2]) if cabin != \"nan\" else 0 for cabin in char_cabin])\n",
    "\n",
    "# Create a DataFrame from the extracted numerical values\n",
    "cabin_num_df = pd.DataFrame(cabin_num)\n",
    "test['CabinNum'] = cabin_num_df"
   ]
  },
  {
   "cell_type": "code",
   "execution_count": 30,
   "id": "c24d1e27",
   "metadata": {
    "execution": {
     "iopub.execute_input": "2023-09-16T01:39:02.431897Z",
     "iopub.status.busy": "2023-09-16T01:39:02.431385Z",
     "iopub.status.idle": "2023-09-16T01:39:02.443692Z",
     "shell.execute_reply": "2023-09-16T01:39:02.442532Z"
    },
    "papermill": {
     "duration": 0.037399,
     "end_time": "2023-09-16T01:39:02.446263",
     "exception": false,
     "start_time": "2023-09-16T01:39:02.408864",
     "status": "completed"
    },
    "tags": []
   },
   "outputs": [
    {
     "data": {
      "text/plain": [
       "ShoppingMall\n",
       "0.0       5587\n",
       "NaN        208\n",
       "1.0        153\n",
       "2.0         80\n",
       "3.0         59\n",
       "          ... \n",
       "3627.0       1\n",
       "2074.0       1\n",
       "871.0        1\n",
       "742.0        1\n",
       "1872.0       1\n",
       "Name: count, Length: 1116, dtype: int64"
      ]
     },
     "execution_count": 30,
     "metadata": {},
     "output_type": "execute_result"
    }
   ],
   "source": [
    "train[\"ShoppingMall\"].value_counts(dropna =False)"
   ]
  },
  {
   "cell_type": "code",
   "execution_count": 31,
   "id": "ebab66b0",
   "metadata": {
    "execution": {
     "iopub.execute_input": "2023-09-16T01:39:02.491837Z",
     "iopub.status.busy": "2023-09-16T01:39:02.491198Z",
     "iopub.status.idle": "2023-09-16T01:39:02.512993Z",
     "shell.execute_reply": "2023-09-16T01:39:02.512107Z"
    },
    "papermill": {
     "duration": 0.047523,
     "end_time": "2023-09-16T01:39:02.515131",
     "exception": false,
     "start_time": "2023-09-16T01:39:02.467608",
     "status": "completed"
    },
    "tags": []
   },
   "outputs": [
    {
     "data": {
      "text/plain": [
       "Destination    Transported\n",
       "55 Cancri e    True           1098\n",
       "               False           702\n",
       "PSO J318.5-22  True            401\n",
       "               False           395\n",
       "TRAPPIST-1e    False          3128\n",
       "               True           2787\n",
       "Name: count, dtype: int64"
      ]
     },
     "execution_count": 31,
     "metadata": {},
     "output_type": "execute_result"
    }
   ],
   "source": [
    "train.groupby(\"Destination\")[[\"Transported\"]].value_counts()"
   ]
  },
  {
   "cell_type": "code",
   "execution_count": 32,
   "id": "402b8e21",
   "metadata": {
    "execution": {
     "iopub.execute_input": "2023-09-16T01:39:02.560620Z",
     "iopub.status.busy": "2023-09-16T01:39:02.559615Z",
     "iopub.status.idle": "2023-09-16T01:39:02.612024Z",
     "shell.execute_reply": "2023-09-16T01:39:02.610849Z"
    },
    "papermill": {
     "duration": 0.078337,
     "end_time": "2023-09-16T01:39:02.614911",
     "exception": false,
     "start_time": "2023-09-16T01:39:02.536574",
     "status": "completed"
    },
    "tags": []
   },
   "outputs": [],
   "source": [
    "transported_class_2 = pd.crosstab(index=train[\"Transported\"], \n",
    "                            columns=train[\"Deck\"],\n",
    "                             margins=True)"
   ]
  },
  {
   "cell_type": "code",
   "execution_count": 33,
   "id": "270c8b6a",
   "metadata": {
    "execution": {
     "iopub.execute_input": "2023-09-16T01:39:02.661000Z",
     "iopub.status.busy": "2023-09-16T01:39:02.660512Z",
     "iopub.status.idle": "2023-09-16T01:39:02.719846Z",
     "shell.execute_reply": "2023-09-16T01:39:02.718685Z"
    },
    "papermill": {
     "duration": 0.085289,
     "end_time": "2023-09-16T01:39:02.722367",
     "exception": false,
     "start_time": "2023-09-16T01:39:02.637078",
     "status": "completed"
    },
    "tags": []
   },
   "outputs": [
    {
     "data": {
      "text/html": [
       "<div>\n",
       "<style scoped>\n",
       "    .dataframe tbody tr th:only-of-type {\n",
       "        vertical-align: middle;\n",
       "    }\n",
       "\n",
       "    .dataframe tbody tr th {\n",
       "        vertical-align: top;\n",
       "    }\n",
       "\n",
       "    .dataframe thead th {\n",
       "        text-align: right;\n",
       "    }\n",
       "</style>\n",
       "<table border=\"1\" class=\"dataframe\">\n",
       "  <thead>\n",
       "    <tr style=\"text-align: right;\">\n",
       "      <th></th>\n",
       "      <th>A</th>\n",
       "      <th>B</th>\n",
       "      <th>C</th>\n",
       "      <th>D</th>\n",
       "      <th>E</th>\n",
       "      <th>F</th>\n",
       "      <th>G</th>\n",
       "      <th>T</th>\n",
       "      <th>n</th>\n",
       "      <th>rowtotal</th>\n",
       "    </tr>\n",
       "  </thead>\n",
       "  <tbody>\n",
       "    <tr>\n",
       "      <th>Transported</th>\n",
       "      <td>0.014840</td>\n",
       "      <td>0.023812</td>\n",
       "      <td>0.027493</td>\n",
       "      <td>0.031175</td>\n",
       "      <td>0.064765</td>\n",
       "      <td>0.180030</td>\n",
       "      <td>0.142413</td>\n",
       "      <td>0.000460</td>\n",
       "      <td>0.011388</td>\n",
       "      <td>0.496376</td>\n",
       "    </tr>\n",
       "    <tr>\n",
       "      <th>NoTransported</th>\n",
       "      <td>0.014609</td>\n",
       "      <td>0.065800</td>\n",
       "      <td>0.058438</td>\n",
       "      <td>0.023812</td>\n",
       "      <td>0.036006</td>\n",
       "      <td>0.141378</td>\n",
       "      <td>0.151961</td>\n",
       "      <td>0.000115</td>\n",
       "      <td>0.011504</td>\n",
       "      <td>0.503624</td>\n",
       "    </tr>\n",
       "    <tr>\n",
       "      <th>coltotal</th>\n",
       "      <td>0.029449</td>\n",
       "      <td>0.089612</td>\n",
       "      <td>0.085931</td>\n",
       "      <td>0.054987</td>\n",
       "      <td>0.100771</td>\n",
       "      <td>0.321408</td>\n",
       "      <td>0.294375</td>\n",
       "      <td>0.000575</td>\n",
       "      <td>0.022892</td>\n",
       "      <td>1.000000</td>\n",
       "    </tr>\n",
       "  </tbody>\n",
       "</table>\n",
       "</div>"
      ],
      "text/plain": [
       "                      A         B         C         D         E         F  \\\n",
       "Transported    0.014840  0.023812  0.027493  0.031175  0.064765  0.180030   \n",
       "NoTransported  0.014609  0.065800  0.058438  0.023812  0.036006  0.141378   \n",
       "coltotal       0.029449  0.089612  0.085931  0.054987  0.100771  0.321408   \n",
       "\n",
       "                      G         T         n  rowtotal  \n",
       "Transported    0.142413  0.000460  0.011388  0.496376  \n",
       "NoTransported  0.151961  0.000115  0.011504  0.503624  \n",
       "coltotal       0.294375  0.000575  0.022892  1.000000  "
      ]
     },
     "execution_count": 33,
     "metadata": {},
     "output_type": "execute_result"
    }
   ],
   "source": [
    "transported_class_2 = pd.crosstab(index=train[\"Transported\"], \n",
    "                            columns=train[\"Deck\"],\n",
    "                             margins=True)\n",
    "transported_class_2.columns =  np.array(['A', 'B', 'C', 'D', 'E', 'F', 'G', 'T', 'n', 'rowtotal']) \n",
    "transported_class_2.index= [\"Transported\",\"NoTransported\",\"coltotal\"]\n",
    "transported_class_2/transported_class_2.loc[\"coltotal\",\"rowtotal\"]"
   ]
  },
  {
   "cell_type": "code",
   "execution_count": 34,
   "id": "313b0e43",
   "metadata": {
    "execution": {
     "iopub.execute_input": "2023-09-16T01:39:02.768197Z",
     "iopub.status.busy": "2023-09-16T01:39:02.767741Z",
     "iopub.status.idle": "2023-09-16T01:39:03.288303Z",
     "shell.execute_reply": "2023-09-16T01:39:03.287199Z"
    },
    "papermill": {
     "duration": 0.547195,
     "end_time": "2023-09-16T01:39:03.291229",
     "exception": false,
     "start_time": "2023-09-16T01:39:02.744034",
     "status": "completed"
    },
    "tags": []
   },
   "outputs": [
    {
     "data": {
      "image/png": "[encoded data removed]",
      "text/plain": [
       "<Figure size 800x800 with 1 Axes>"
      ]
     },
     "metadata": {},
     "output_type": "display_data"
    }
   ],
   "source": [
    "transported_class_2.plot(kind=\"bar\",\n",
    "                 figsize=(8,8));"
   ]
  },
  {
   "cell_type": "code",
   "execution_count": 35,
   "id": "2dc405f7",
   "metadata": {
    "execution": {
     "iopub.execute_input": "2023-09-16T01:39:03.343037Z",
     "iopub.status.busy": "2023-09-16T01:39:03.342651Z",
     "iopub.status.idle": "2023-09-16T01:39:03.351747Z",
     "shell.execute_reply": "2023-09-16T01:39:03.350425Z"
    },
    "papermill": {
     "duration": 0.040702,
     "end_time": "2023-09-16T01:39:03.355835",
     "exception": false,
     "start_time": "2023-09-16T01:39:03.315133",
     "status": "completed"
    },
    "tags": []
   },
   "outputs": [
    {
     "data": {
      "text/plain": [
       "array(['Europa', 'Earth', 'Mars', nan], dtype=object)"
      ]
     },
     "execution_count": 35,
     "metadata": {},
     "output_type": "execute_result"
    }
   ],
   "source": [
    "train[\"HomePlanet\"].unique()"
   ]
  },
  {
   "cell_type": "code",
   "execution_count": 36,
   "id": "260dc687",
   "metadata": {
    "execution": {
     "iopub.execute_input": "2023-09-16T01:39:03.419218Z",
     "iopub.status.busy": "2023-09-16T01:39:03.417876Z",
     "iopub.status.idle": "2023-09-16T01:39:03.808562Z",
     "shell.execute_reply": "2023-09-16T01:39:03.807089Z"
    },
    "papermill": {
     "duration": 0.426269,
     "end_time": "2023-09-16T01:39:03.811249",
     "exception": false,
     "start_time": "2023-09-16T01:39:03.384980",
     "status": "completed"
    },
    "tags": []
   },
   "outputs": [
    {
     "data": {
      "image/png": "[encoded data removed]",
      "text/plain": [
       "<Figure size 800x800 with 1 Axes>"
      ]
     },
     "metadata": {},
     "output_type": "display_data"
    }
   ],
   "source": [
    "\n",
    "cryocross = pd.crosstab(index=train[\"Transported\"], \n",
    "                            columns=train[\"CryoSleep\"],\n",
    "                             margins=True)\n",
    "cryocross.columns = ['Cryo', 'NoCryo',\"rowtotal\"]\n",
    "cryocross.index= [\"Transported\",\"NoTransported\",\"coltotal\"]\n",
    "(cryocross/cryocross.loc[\"coltotal\",\"rowtotal\"]).plot(kind=\"bar\",\n",
    "                 figsize=(8,8));"
   ]
  },
  {
   "cell_type": "code",
   "execution_count": 37,
   "id": "918dea49",
   "metadata": {
    "execution": {
     "iopub.execute_input": "2023-09-16T01:39:03.860174Z",
     "iopub.status.busy": "2023-09-16T01:39:03.859767Z",
     "iopub.status.idle": "2023-09-16T01:39:06.069205Z",
     "shell.execute_reply": "2023-09-16T01:39:06.068356Z"
    },
    "papermill": {
     "duration": 2.237494,
     "end_time": "2023-09-16T01:39:06.072579",
     "exception": false,
     "start_time": "2023-09-16T01:39:03.835085",
     "status": "completed"
    },
    "tags": []
   },
   "outputs": [
    {
     "data": {
      "image/png": "[encoded data removed]",
      "text/plain": [
       "<Figure size 800x600 with 1 Axes>"
      ]
     },
     "metadata": {},
     "output_type": "display_data"
    }
   ],
   "source": [
    "import pandas as pd\n",
    "import seaborn as sns\n",
    "import matplotlib.pyplot as plt\n",
    "\n",
    "# Your cryo_data DataFrame\n",
    "cryo_data = train[train[\"CryoSleep\"] == 1][[\"CabinNum\", \"DeckSide\", \"Transported\"]]\n",
    "\n",
    "# Create a scatter plot with different colors for \"Transported\" (True/False)\n",
    "plt.figure(figsize=(8, 6))  # Adjust the figure size as needed\n",
    "sns.scatterplot(data=cryo_data, x=\"CabinNum\", y=\"DeckSide\", hue=\"Transported\", palette={True: 'green', False: 'red'})\n",
    "\n",
    "plt.xlabel(\"CabinNum\")\n",
    "plt.ylabel(\"DeckSide\")\n",
    "\n",
    "plt.legend(title=\"Transported\", labels=[\"False\", \"True\"])  # Custom legend labels\n",
    "\n",
    "plt.show()"
   ]
  },
  {
   "cell_type": "code",
   "execution_count": 38,
   "id": "24446946",
   "metadata": {
    "execution": {
     "iopub.execute_input": "2023-09-16T01:39:06.126177Z",
     "iopub.status.busy": "2023-09-16T01:39:06.125501Z",
     "iopub.status.idle": "2023-09-16T01:39:06.134329Z",
     "shell.execute_reply": "2023-09-16T01:39:06.133237Z"
    },
    "papermill": {
     "duration": 0.038627,
     "end_time": "2023-09-16T01:39:06.136572",
     "exception": false,
     "start_time": "2023-09-16T01:39:06.097945",
     "status": "completed"
    },
    "tags": []
   },
   "outputs": [
    {
     "data": {
      "text/plain": [
       "0          0.0\n",
       "1         34.0\n",
       "2       3576.0\n",
       "3       1654.0\n",
       "4        221.0\n",
       "         ...  \n",
       "8688    6819.0\n",
       "8689       0.0\n",
       "8690    1872.0\n",
       "8691    1049.0\n",
       "8692    4688.0\n",
       "Name: billing_fixed, Length: 8693, dtype: float64"
      ]
     },
     "execution_count": 38,
     "metadata": {},
     "output_type": "execute_result"
    }
   ],
   "source": [
    "train[\"billing_fixed\"]"
   ]
  },
  {
   "cell_type": "code",
   "execution_count": 39,
   "id": "d4586afe",
   "metadata": {
    "execution": {
     "iopub.execute_input": "2023-09-16T01:39:06.188739Z",
     "iopub.status.busy": "2023-09-16T01:39:06.188292Z",
     "iopub.status.idle": "2023-09-16T01:39:06.779845Z",
     "shell.execute_reply": "2023-09-16T01:39:06.778817Z"
    },
    "papermill": {
     "duration": 0.62092,
     "end_time": "2023-09-16T01:39:06.782615",
     "exception": false,
     "start_time": "2023-09-16T01:39:06.161695",
     "status": "completed"
    },
    "tags": []
   },
   "outputs": [
    {
     "data": {
      "image/png": "[encoded data removed]",
      "text/plain": [
       "<Figure size 800x600 with 1 Axes>"
      ]
     },
     "metadata": {},
     "output_type": "display_data"
    }
   ],
   "source": [
    "import pandas as pd\n",
    "import seaborn as sns\n",
    "import matplotlib.pyplot as plt\n",
    "\n",
    "# Your cryo_data DataFrame\n",
    "cryo_data = train[train[\"CryoSleep\"] == 0][[\"billing_moving\", \"billing_fixed\", \"Transported\"]]\n",
    "\n",
    "# Create a scatter plot with different colors for \"Transported\" (True/False)\n",
    "plt.figure(figsize=(8, 6))  # Adjust the figure size as needed\n",
    "sns.scatterplot(data=cryo_data, x=\"billing_moving\", y=\"billing_fixed\", hue=\"Transported\", palette={True: 'green', False: 'red'})\n",
    "\n",
    "plt.title(\"Scatter Plot of billing_moving vs. billing_fixed\")\n",
    "plt.xlabel(\"billing_moving\")\n",
    "plt.ylabel(\"billing_fixed\")\n",
    "\n",
    "plt.legend(title=\"Transported\", labels=[\"False\", \"True\"])  # Custom legend labels\n",
    "\n",
    "plt.show()"
   ]
  },
  {
   "cell_type": "code",
   "execution_count": 40,
   "id": "764c42b2",
   "metadata": {
    "execution": {
     "iopub.execute_input": "2023-09-16T01:39:06.840059Z",
     "iopub.status.busy": "2023-09-16T01:39:06.839651Z",
     "iopub.status.idle": "2023-09-16T01:39:07.210985Z",
     "shell.execute_reply": "2023-09-16T01:39:07.209617Z"
    },
    "papermill": {
     "duration": 0.404618,
     "end_time": "2023-09-16T01:39:07.214012",
     "exception": false,
     "start_time": "2023-09-16T01:39:06.809394",
     "status": "completed"
    },
    "tags": []
   },
   "outputs": [
    {
     "name": "stderr",
     "output_type": "stream",
     "text": [
      "/tmp/ipykernel_20/3168538725.py:7: SettingWithCopyWarning: \n",
      "A value is trying to be set on a copy of a slice from a DataFrame.\n",
      "Try using .loc[row_indexer,col_indexer] = value instead\n",
      "\n",
      "See the caveats in the documentation: https://pandas.pydata.org/pandas-docs/stable/user_guide/indexing.html#returning-a-view-versus-a-copy\n",
      "  cryo_data[\"Transported_Indicator\"] = cryo_data[\"Transported\"].astype(int)\n",
      "/tmp/ipykernel_20/3168538725.py:8: SettingWithCopyWarning: \n",
      "A value is trying to be set on a copy of a slice from a DataFrame.\n",
      "Try using .loc[row_indexer,col_indexer] = value instead\n",
      "\n",
      "See the caveats in the documentation: https://pandas.pydata.org/pandas-docs/stable/user_guide/indexing.html#returning-a-view-versus-a-copy\n",
      "  cryo_data[\"All_Indicator\"] =True\n"
     ]
    },
    {
     "data": {
      "image/png": "[encoded data removed]",
      "text/plain": [
       "<Figure size 640x480 with 2 Axes>"
      ]
     },
     "metadata": {},
     "output_type": "display_data"
    }
   ],
   "source": [
    "# indicate percentage import pandas as pd\n",
    "import seaborn as sns\n",
    "import matplotlib.pyplot as plt\n",
    "\n",
    "cryo_data = train[[\"HomePlanet\", \"Destination\", \"Transported\"]]\n",
    "\n",
    "cryo_data[\"Transported_Indicator\"] = cryo_data[\"Transported\"].astype(int)\n",
    "cryo_data[\"All_Indicator\"] =True\n",
    "\n",
    "heatmap_data_transported = cryo_data.pivot_table(index=\"HomePlanet\", columns=\"Destination\", values=\"Transported_Indicator\", aggfunc=\"sum\", fill_value=0)\n",
    "\n",
    "\n",
    "heatmap_data_all = cryo_data.pivot_table(index=\"HomePlanet\", columns=\"Destination\", values=\"All_Indicator\", aggfunc=\"sum\", fill_value=0)\n",
    "\n",
    "heatmap_data_percent = heatmap_data_transported /heatmap_data_all\n",
    "\n",
    "sns.heatmap(heatmap_data_percent, cmap='coolwarm', cbar=True, annot=True, fmt=\".1f\")  # Remove annot=True and set fmt=\"\"\n",
    "\n",
    "plt.title(\"Percent of Individuals (Transported or Not) by HomePlanet and Destination\")\n",
    "plt.xlabel(\"Destination\")\n",
    "plt.ylabel(\"HomePlanet\")\n",
    "plt.show()\n"
   ]
  },
  {
   "cell_type": "code",
   "execution_count": 41,
   "id": "c13e641d",
   "metadata": {
    "execution": {
     "iopub.execute_input": "2023-09-16T01:39:07.272822Z",
     "iopub.status.busy": "2023-09-16T01:39:07.272157Z",
     "iopub.status.idle": "2023-09-16T01:39:07.909426Z",
     "shell.execute_reply": "2023-09-16T01:39:07.908033Z"
    },
    "papermill": {
     "duration": 0.670293,
     "end_time": "2023-09-16T01:39:07.912145",
     "exception": false,
     "start_time": "2023-09-16T01:39:07.241852",
     "status": "completed"
    },
    "tags": []
   },
   "outputs": [
    {
     "data": {
      "image/png": "[encoded data removed]",
      "text/plain": [
       "<Figure size 640x480 with 2 Axes>"
      ]
     },
     "metadata": {},
     "output_type": "display_data"
    }
   ],
   "source": [
    "import pandas as pd\n",
    "import seaborn as sns\n",
    "import matplotlib.pyplot as plt\n",
    "\n",
    "cryo_data = train[train[\"CryoSleep\"] == 1][[\"HomeDestination\", \"DeckSide\", \"Transported\"]]\n",
    "#cryo_data = train[[\"HomeDestination\", \"DeckSide\", \"Transported\"]]\n",
    "\n",
    "cryo_data[\"All_Indicator\"] =True\n",
    "\n",
    "heatmap_data_all = cryo_data.pivot_table(index=\"HomeDestination\", columns=\"DeckSide\", values=\"All_Indicator\", aggfunc=\"sum\", fill_value=0)\n",
    "\n",
    "heatmap_data_transported = cryo_data.pivot_table(index=\"HomeDestination\", columns=\"DeckSide\", values=\"Transported\", aggfunc=\"sum\", fill_value=0)\n",
    "\n",
    "heatmap_data_percent = heatmap_data_transported /heatmap_data_all\n",
    "plt.subplot(2,1,2)\n",
    "sns.heatmap(heatmap_data_percent, cmap='coolwarm', cbar=True, annot=True, fmt=\"0.01f\")  # Remove annot=True and set fmt=\"\"\n",
    "\n",
    "plt.title(\"Percent of Individuals (Transported ) by HomeDestination and DeckSide - case 1 (cryosleep )\")\n",
    "plt.ylabel(\"HomeDestination\")\n",
    "plt.xlabel(\"DeckSide\")\n",
    "\n",
    "plt.show()\n",
    "plt.show()"
   ]
  },
  {
   "cell_type": "code",
   "execution_count": 42,
   "id": "dfe475fc",
   "metadata": {
    "execution": {
     "iopub.execute_input": "2023-09-16T01:39:07.972273Z",
     "iopub.status.busy": "2023-09-16T01:39:07.971891Z",
     "iopub.status.idle": "2023-09-16T01:39:07.978152Z",
     "shell.execute_reply": "2023-09-16T01:39:07.977355Z"
    },
    "papermill": {
     "duration": 0.039808,
     "end_time": "2023-09-16T01:39:07.981103",
     "exception": false,
     "start_time": "2023-09-16T01:39:07.941295",
     "status": "completed"
    },
    "tags": []
   },
   "outputs": [
    {
     "name": "stdout",
     "output_type": "stream",
     "text": [
      "Index(['PassengerId', 'HomePlanet', 'CryoSleep', 'Cabin', 'Destination', 'Age',\n",
      "       'VIP', 'RoomService', 'FoodCourt', 'ShoppingMall', 'Spa', 'VRDeck',\n",
      "       'Name', 'Transported', 'billing_moving', 'billing_fixed',\n",
      "       'HomeDestination', 'Deck', 'Side', 'DeckSide', 'CabinNum'],\n",
      "      dtype='object')\n"
     ]
    }
   ],
   "source": [
    "# cleaning data + one hot encoding \n",
    "# cleaning \n",
    "# check data \n",
    "print(train.columns)\n",
    "# features\n",
    "features = [\"CryoSleep\",\"HomePlanet\",\"Destination\",\"billing_moving\",\"billing_fixed\",\"CabinNum\",\"Deck\",\"Side\", \"Age\"]\n",
    "target = [\"Transported\"]\n",
    "_id = [\"PassengerId\"]\n",
    "\n"
   ]
  },
  {
   "cell_type": "code",
   "execution_count": 43,
   "id": "0a002d03",
   "metadata": {
    "execution": {
     "iopub.execute_input": "2023-09-16T01:39:08.041539Z",
     "iopub.status.busy": "2023-09-16T01:39:08.041123Z",
     "iopub.status.idle": "2023-09-16T01:39:08.052160Z",
     "shell.execute_reply": "2023-09-16T01:39:08.050974Z"
    },
    "papermill": {
     "duration": 0.044865,
     "end_time": "2023-09-16T01:39:08.054734",
     "exception": false,
     "start_time": "2023-09-16T01:39:08.009869",
     "status": "completed"
    },
    "tags": []
   },
   "outputs": [
    {
     "data": {
      "text/plain": [
       "CryoSleep           object\n",
       "HomePlanet          object\n",
       "Destination         object\n",
       "billing_moving     float64\n",
       "billing_fixed      float64\n",
       "CabinNum             int64\n",
       "Deck              category\n",
       "Side              category\n",
       "Age                float64\n",
       "dtype: object"
      ]
     },
     "execution_count": 43,
     "metadata": {},
     "output_type": "execute_result"
    }
   ],
   "source": [
    "train[features].dtypes\n"
   ]
  },
  {
   "cell_type": "code",
   "execution_count": 44,
   "id": "269a68df",
   "metadata": {
    "execution": {
     "iopub.execute_input": "2023-09-16T01:39:08.115429Z",
     "iopub.status.busy": "2023-09-16T01:39:08.114983Z",
     "iopub.status.idle": "2023-09-16T01:39:08.248002Z",
     "shell.execute_reply": "2023-09-16T01:39:08.246283Z"
    },
    "papermill": {
     "duration": 0.166795,
     "end_time": "2023-09-16T01:39:08.250874",
     "exception": false,
     "start_time": "2023-09-16T01:39:08.084079",
     "status": "completed"
    },
    "tags": []
   },
   "outputs": [
    {
     "name": "stdout",
     "output_type": "stream",
     "text": [
      "CryoSleep         217\n",
      "HomePlanet        201\n",
      "Destination       182\n",
      "billing_moving    544\n",
      "billing_fixed     389\n",
      "CabinNum            0\n",
      "Deck                0\n",
      "Side                0\n",
      "Age               179\n",
      "dtype: int64\n",
      "CryoSleep          93\n",
      "HomePlanet         87\n",
      "Destination        92\n",
      "billing_moving    259\n",
      "billing_fixed     202\n",
      "CabinNum            0\n",
      "Deck                0\n",
      "Side                0\n",
      "Age                91\n",
      "dtype: int64\n",
      "Index(['PassengerId', 'HomePlanet', 'CryoSleep', 'Cabin', 'Destination', 'VIP',\n",
      "       'Name', 'HomeDestination'],\n",
      "      dtype='object')\n",
      "       PassengerId HomePlanet CryoSleep    Cabin  Destination    VIP  \\\n",
      "count         8693       8492      8476     8494         8511   8490   \n",
      "unique        8693          3         2     6560            3      2   \n",
      "top        0001_01      Earth     False  G/734/S  TRAPPIST-1e  False   \n",
      "freq             1       4602      5439        8         5915   8291   \n",
      "\n",
      "                  Name   HomeDestination  \n",
      "count             8493              8314  \n",
      "unique            8473                 9  \n",
      "top     Gollux Reedall  EarthTRAPPIST-1e  \n",
      "freq                 2              3101  \n",
      "Index(['PassengerId', 'HomePlanet', 'CryoSleep', 'Cabin', 'Destination', 'VIP',\n",
      "       'Name'],\n",
      "      dtype='object')\n",
      "       PassengerId HomePlanet CryoSleep    Cabin  Destination    VIP  \\\n",
      "count         4277       4190      4184     4177         4185   4184   \n",
      "unique        4277          3         2     3265            3      2   \n",
      "top        0013_01      Earth     False  G/160/P  TRAPPIST-1e  False   \n",
      "freq             1       2263      2640        8         2956   4110   \n",
      "\n",
      "              Name  \n",
      "count         4183  \n",
      "unique        4176  \n",
      "top     Cints Erle  \n",
      "freq             2  \n",
      "CryoSleep           object\n",
      "HomePlanet          object\n",
      "Destination         object\n",
      "billing_moving     float64\n",
      "billing_fixed      float64\n",
      "CabinNum             int64\n",
      "Deck              category\n",
      "Side              category\n",
      "Age                float64\n",
      "dtype: object\n",
      "CryoSleep           object\n",
      "HomePlanet          object\n",
      "Destination         object\n",
      "billing_moving     float64\n",
      "billing_fixed      float64\n",
      "CabinNum             int64\n",
      "Deck              category\n",
      "Side              category\n",
      "Age                float64\n",
      "dtype: object\n"
     ]
    }
   ],
   "source": [
    "print(train[features].isna().sum(axis=0))\n",
    "print(test[features].isna().sum(axis=0))\n",
    "# billing moving , billing fixed fillna 0 \n",
    "train.billing_moving = train.billing_moving.fillna(0)\n",
    "test.billing_moving = test.billing_moving.fillna(0)\n",
    "\n",
    "train.billing_fixed = train.billing_fixed.fillna(0)\n",
    "test.billing_fixed = test.billing_fixed.fillna(0)\n",
    "# categorical (object, category) fill with unknown (cryosleep also )\n",
    "train_categorical= train.select_dtypes(include=['object']).columns\n",
    "#train_categorical = train.dtypes[train.dtypes in (\"object\",\"category\")].index\n",
    "\n",
    "print(train_categorical)\n",
    "print(train[train_categorical].describe())\n",
    "train[train_categorical]= train[train_categorical].fillna('unknown')\n",
    "# age mean \n",
    "test_categorical= test.select_dtypes(include=['object']).columns\n",
    "\n",
    "#test_categorical = test.dtypes[train.dtypes in (\"object\",\"category\")].index\n",
    "\n",
    "print(test_categorical)\n",
    "print(test[test_categorical].describe())\n",
    "test[test_categorical]= test[test_categorical].fillna('unknown')\n",
    "\n",
    "print(train[features].dtypes)\n",
    "print(test[features].dtypes)"
   ]
  },
  {
   "cell_type": "code",
   "execution_count": 45,
   "id": "48718625",
   "metadata": {
    "execution": {
     "iopub.execute_input": "2023-09-16T01:39:08.310896Z",
     "iopub.status.busy": "2023-09-16T01:39:08.310435Z",
     "iopub.status.idle": "2023-09-16T01:39:08.319898Z",
     "shell.execute_reply": "2023-09-16T01:39:08.318488Z"
    },
    "papermill": {
     "duration": 0.042635,
     "end_time": "2023-09-16T01:39:08.322444",
     "exception": false,
     "start_time": "2023-09-16T01:39:08.279809",
     "status": "completed"
    },
    "tags": []
   },
   "outputs": [],
   "source": [
    "train_mean_age = train.Age.mean()\n",
    "train.Age = train.Age.fillna(train_mean_age)\n",
    "test_mean_age = test.Age.mean()\n",
    "test.Age = test.Age.fillna(test_mean_age)\n"
   ]
  },
  {
   "cell_type": "code",
   "execution_count": 46,
   "id": "49019828",
   "metadata": {
    "execution": {
     "iopub.execute_input": "2023-09-16T01:39:08.382683Z",
     "iopub.status.busy": "2023-09-16T01:39:08.382238Z",
     "iopub.status.idle": "2023-09-16T01:39:08.410686Z",
     "shell.execute_reply": "2023-09-16T01:39:08.409789Z"
    },
    "papermill": {
     "duration": 0.060734,
     "end_time": "2023-09-16T01:39:08.413100",
     "exception": false,
     "start_time": "2023-09-16T01:39:08.352366",
     "status": "completed"
    },
    "tags": []
   },
   "outputs": [
    {
     "data": {
      "text/html": [
       "<div>\n",
       "<style scoped>\n",
       "    .dataframe tbody tr th:only-of-type {\n",
       "        vertical-align: middle;\n",
       "    }\n",
       "\n",
       "    .dataframe tbody tr th {\n",
       "        vertical-align: top;\n",
       "    }\n",
       "\n",
       "    .dataframe thead th {\n",
       "        text-align: right;\n",
       "    }\n",
       "</style>\n",
       "<table border=\"1\" class=\"dataframe\">\n",
       "  <thead>\n",
       "    <tr style=\"text-align: right;\">\n",
       "      <th></th>\n",
       "      <th>CryoSleep</th>\n",
       "      <th>HomePlanet</th>\n",
       "      <th>Destination</th>\n",
       "      <th>billing_moving</th>\n",
       "      <th>billing_fixed</th>\n",
       "      <th>CabinNum</th>\n",
       "      <th>Deck</th>\n",
       "      <th>Side</th>\n",
       "      <th>Age</th>\n",
       "    </tr>\n",
       "  </thead>\n",
       "  <tbody>\n",
       "    <tr>\n",
       "      <th>0</th>\n",
       "      <td>False</td>\n",
       "      <td>Europa</td>\n",
       "      <td>TRAPPIST-1e</td>\n",
       "      <td>0.0</td>\n",
       "      <td>0.0</td>\n",
       "      <td>0</td>\n",
       "      <td>B</td>\n",
       "      <td>P</td>\n",
       "      <td>39.0</td>\n",
       "    </tr>\n",
       "    <tr>\n",
       "      <th>1</th>\n",
       "      <td>False</td>\n",
       "      <td>Earth</td>\n",
       "      <td>TRAPPIST-1e</td>\n",
       "      <td>702.0</td>\n",
       "      <td>34.0</td>\n",
       "      <td>0</td>\n",
       "      <td>F</td>\n",
       "      <td>S</td>\n",
       "      <td>24.0</td>\n",
       "    </tr>\n",
       "    <tr>\n",
       "      <th>2</th>\n",
       "      <td>False</td>\n",
       "      <td>Europa</td>\n",
       "      <td>TRAPPIST-1e</td>\n",
       "      <td>6807.0</td>\n",
       "      <td>3576.0</td>\n",
       "      <td>0</td>\n",
       "      <td>A</td>\n",
       "      <td>S</td>\n",
       "      <td>58.0</td>\n",
       "    </tr>\n",
       "    <tr>\n",
       "      <th>3</th>\n",
       "      <td>False</td>\n",
       "      <td>Europa</td>\n",
       "      <td>TRAPPIST-1e</td>\n",
       "      <td>3522.0</td>\n",
       "      <td>1654.0</td>\n",
       "      <td>0</td>\n",
       "      <td>A</td>\n",
       "      <td>S</td>\n",
       "      <td>33.0</td>\n",
       "    </tr>\n",
       "    <tr>\n",
       "      <th>4</th>\n",
       "      <td>False</td>\n",
       "      <td>Earth</td>\n",
       "      <td>TRAPPIST-1e</td>\n",
       "      <td>870.0</td>\n",
       "      <td>221.0</td>\n",
       "      <td>1</td>\n",
       "      <td>F</td>\n",
       "      <td>S</td>\n",
       "      <td>16.0</td>\n",
       "    </tr>\n",
       "    <tr>\n",
       "      <th>...</th>\n",
       "      <td>...</td>\n",
       "      <td>...</td>\n",
       "      <td>...</td>\n",
       "      <td>...</td>\n",
       "      <td>...</td>\n",
       "      <td>...</td>\n",
       "      <td>...</td>\n",
       "      <td>...</td>\n",
       "      <td>...</td>\n",
       "    </tr>\n",
       "    <tr>\n",
       "      <th>8688</th>\n",
       "      <td>False</td>\n",
       "      <td>Europa</td>\n",
       "      <td>55 Cancri e</td>\n",
       "      <td>1717.0</td>\n",
       "      <td>6819.0</td>\n",
       "      <td>98</td>\n",
       "      <td>A</td>\n",
       "      <td>P</td>\n",
       "      <td>41.0</td>\n",
       "    </tr>\n",
       "    <tr>\n",
       "      <th>8689</th>\n",
       "      <td>True</td>\n",
       "      <td>Earth</td>\n",
       "      <td>PSO J318.5-22</td>\n",
       "      <td>0.0</td>\n",
       "      <td>0.0</td>\n",
       "      <td>1499</td>\n",
       "      <td>G</td>\n",
       "      <td>S</td>\n",
       "      <td>18.0</td>\n",
       "    </tr>\n",
       "    <tr>\n",
       "      <th>8690</th>\n",
       "      <td>False</td>\n",
       "      <td>Earth</td>\n",
       "      <td>TRAPPIST-1e</td>\n",
       "      <td>1.0</td>\n",
       "      <td>1872.0</td>\n",
       "      <td>1500</td>\n",
       "      <td>G</td>\n",
       "      <td>S</td>\n",
       "      <td>26.0</td>\n",
       "    </tr>\n",
       "    <tr>\n",
       "      <th>8691</th>\n",
       "      <td>False</td>\n",
       "      <td>Europa</td>\n",
       "      <td>55 Cancri e</td>\n",
       "      <td>3588.0</td>\n",
       "      <td>1049.0</td>\n",
       "      <td>608</td>\n",
       "      <td>E</td>\n",
       "      <td>S</td>\n",
       "      <td>32.0</td>\n",
       "    </tr>\n",
       "    <tr>\n",
       "      <th>8692</th>\n",
       "      <td>False</td>\n",
       "      <td>Europa</td>\n",
       "      <td>TRAPPIST-1e</td>\n",
       "      <td>138.0</td>\n",
       "      <td>4688.0</td>\n",
       "      <td>608</td>\n",
       "      <td>E</td>\n",
       "      <td>S</td>\n",
       "      <td>44.0</td>\n",
       "    </tr>\n",
       "  </tbody>\n",
       "</table>\n",
       "<p>8693 rows × 9 columns</p>\n",
       "</div>"
      ],
      "text/plain": [
       "     CryoSleep HomePlanet    Destination  billing_moving  billing_fixed  \\\n",
       "0        False     Europa    TRAPPIST-1e             0.0            0.0   \n",
       "1        False      Earth    TRAPPIST-1e           702.0           34.0   \n",
       "2        False     Europa    TRAPPIST-1e          6807.0         3576.0   \n",
       "3        False     Europa    TRAPPIST-1e          3522.0         1654.0   \n",
       "4        False      Earth    TRAPPIST-1e           870.0          221.0   \n",
       "...        ...        ...            ...             ...            ...   \n",
       "8688     False     Europa    55 Cancri e          1717.0         6819.0   \n",
       "8689      True      Earth  PSO J318.5-22             0.0            0.0   \n",
       "8690     False      Earth    TRAPPIST-1e             1.0         1872.0   \n",
       "8691     False     Europa    55 Cancri e          3588.0         1049.0   \n",
       "8692     False     Europa    TRAPPIST-1e           138.0         4688.0   \n",
       "\n",
       "      CabinNum Deck Side   Age  \n",
       "0            0    B    P  39.0  \n",
       "1            0    F    S  24.0  \n",
       "2            0    A    S  58.0  \n",
       "3            0    A    S  33.0  \n",
       "4            1    F    S  16.0  \n",
       "...        ...  ...  ...   ...  \n",
       "8688        98    A    P  41.0  \n",
       "8689      1499    G    S  18.0  \n",
       "8690      1500    G    S  26.0  \n",
       "8691       608    E    S  32.0  \n",
       "8692       608    E    S  44.0  \n",
       "\n",
       "[8693 rows x 9 columns]"
      ]
     },
     "execution_count": 46,
     "metadata": {},
     "output_type": "execute_result"
    }
   ],
   "source": [
    "train[features]"
   ]
  },
  {
   "cell_type": "code",
   "execution_count": 47,
   "id": "0a70af88",
   "metadata": {
    "execution": {
     "iopub.execute_input": "2023-09-16T01:39:08.476060Z",
     "iopub.status.busy": "2023-09-16T01:39:08.475419Z",
     "iopub.status.idle": "2023-09-16T01:39:08.503394Z",
     "shell.execute_reply": "2023-09-16T01:39:08.502472Z"
    },
    "papermill": {
     "duration": 0.06343,
     "end_time": "2023-09-16T01:39:08.506412",
     "exception": false,
     "start_time": "2023-09-16T01:39:08.442982",
     "status": "completed"
    },
    "tags": []
   },
   "outputs": [],
   "source": [
    "import pandas as pd\n",
    "\n",
    "# Assuming you have separate training and test DataFrames, train_df and test_df\n",
    "combined_df = pd.concat([train[features + _id], test[features +_id]], axis=0)\n",
    "categorical_cols = ['CryoSleep', 'HomePlanet', 'Destination', 'Deck', 'Side']# combined_df.select_dtypes(include=['object',\"category\"]).columns\n",
    "\n",
    "combined_encoded = pd.get_dummies(combined_df, columns=categorical_cols, drop_first=True)\n",
    "\n",
    "train_encoded = combined_encoded.iloc[:len(train)]\n",
    "test_encoded = combined_encoded.iloc[len(train):]\n"
   ]
  },
  {
   "cell_type": "code",
   "execution_count": 48,
   "id": "cb3a1f97",
   "metadata": {
    "execution": {
     "iopub.execute_input": "2023-09-16T01:39:08.571305Z",
     "iopub.status.busy": "2023-09-16T01:39:08.570676Z",
     "iopub.status.idle": "2023-09-16T01:39:08.577576Z",
     "shell.execute_reply": "2023-09-16T01:39:08.576761Z"
    },
    "papermill": {
     "duration": 0.042154,
     "end_time": "2023-09-16T01:39:08.579736",
     "exception": false,
     "start_time": "2023-09-16T01:39:08.537582",
     "status": "completed"
    },
    "tags": []
   },
   "outputs": [
    {
     "data": {
      "text/plain": [
       "Index(['billing_moving', 'billing_fixed', 'CabinNum', 'Age', 'PassengerId',\n",
       "       'CryoSleep_True', 'CryoSleep_unknown', 'HomePlanet_Europa',\n",
       "       'HomePlanet_Mars', 'HomePlanet_unknown', 'Destination_PSO J318.5-22',\n",
       "       'Destination_TRAPPIST-1e', 'Destination_unknown', 'Deck_B', 'Deck_C',\n",
       "       'Deck_D', 'Deck_E', 'Deck_F', 'Deck_G', 'Deck_T', 'Deck_unknown',\n",
       "       'Side_S', 'Side_unknown'],\n",
       "      dtype='object')"
      ]
     },
     "execution_count": 48,
     "metadata": {},
     "output_type": "execute_result"
    }
   ],
   "source": [
    "train_encoded.columns"
   ]
  },
  {
   "cell_type": "code",
   "execution_count": 49,
   "id": "70716f44",
   "metadata": {
    "execution": {
     "iopub.execute_input": "2023-09-16T01:39:08.643359Z",
     "iopub.status.busy": "2023-09-16T01:39:08.642645Z",
     "iopub.status.idle": "2023-09-16T01:39:10.562908Z",
     "shell.execute_reply": "2023-09-16T01:39:10.561325Z"
    },
    "papermill": {
     "duration": 1.955511,
     "end_time": "2023-09-16T01:39:10.565936",
     "exception": false,
     "start_time": "2023-09-16T01:39:08.610425",
     "status": "completed"
    },
    "tags": []
   },
   "outputs": [
    {
     "name": "stderr",
     "output_type": "stream",
     "text": [
      "/tmp/ipykernel_20/349154431.py:12: DataConversionWarning: A column-vector y was passed when a 1d array was expected. Please change the shape of y to (n_samples,), for example using ravel().\n",
      "  rf_model.fit(train_X, train_y)\n"
     ]
    }
   ],
   "source": [
    "from sklearn.ensemble import RandomForestClassifier\n",
    "from sklearn.metrics import mean_absolute_error\n",
    "from sklearn.model_selection import train_test_split\n",
    "from sklearn.metrics import accuracy_score\n",
    "X = train_encoded\n",
    "y= train[target]\n",
    "# Split into validation and training data\n",
    "train_X, val_X, train_y, val_y = train_test_split(X, y, random_state=1)\n",
    "\n",
    "# Define a random forest model\n",
    "rf_model = RandomForestClassifier(random_state=1)\n",
    "rf_model.fit(train_X, train_y)\n",
    "rf_val_predictions = rf_model.predict(val_X)\n",
    "\n",
    "accuracy = accuracy_score(val_y, rf_val_predictions)"
   ]
  },
  {
   "cell_type": "code",
   "execution_count": 50,
   "id": "542bfed0",
   "metadata": {
    "execution": {
     "iopub.execute_input": "2023-09-16T01:39:10.627323Z",
     "iopub.status.busy": "2023-09-16T01:39:10.626929Z",
     "iopub.status.idle": "2023-09-16T01:39:10.634827Z",
     "shell.execute_reply": "2023-09-16T01:39:10.633545Z"
    },
    "papermill": {
     "duration": 0.041374,
     "end_time": "2023-09-16T01:39:10.637184",
     "exception": false,
     "start_time": "2023-09-16T01:39:10.595810",
     "status": "completed"
    },
    "tags": []
   },
   "outputs": [
    {
     "data": {
      "text/plain": [
       "0.8104875804967802"
      ]
     },
     "execution_count": 50,
     "metadata": {},
     "output_type": "execute_result"
    }
   ],
   "source": [
    "accuracy"
   ]
  },
  {
   "cell_type": "code",
   "execution_count": 51,
   "id": "d4b47dd8",
   "metadata": {
    "execution": {
     "iopub.execute_input": "2023-09-16T01:39:10.697967Z",
     "iopub.status.busy": "2023-09-16T01:39:10.697442Z",
     "iopub.status.idle": "2023-09-16T01:39:10.732369Z",
     "shell.execute_reply": "2023-09-16T01:39:10.730930Z"
    },
    "papermill": {
     "duration": 0.069105,
     "end_time": "2023-09-16T01:39:10.735759",
     "exception": false,
     "start_time": "2023-09-16T01:39:10.666654",
     "status": "completed"
    },
    "tags": []
   },
   "outputs": [
    {
     "name": "stdout",
     "output_type": "stream",
     "text": [
      "     PassengerId HomePlanet CryoSleep     Cabin    Destination        Age  \\\n",
      "0        0013_01      Earth      True     G/3/S    TRAPPIST-1e  27.000000   \n",
      "1        0018_01      Earth     False     F/4/S    TRAPPIST-1e  19.000000   \n",
      "2        0019_01     Europa      True     C/0/S    55 Cancri e  31.000000   \n",
      "3        0021_01     Europa     False     C/1/S    TRAPPIST-1e  38.000000   \n",
      "4        0023_01      Earth     False     F/5/S    TRAPPIST-1e  20.000000   \n",
      "...          ...        ...       ...       ...            ...        ...   \n",
      "4272     9266_02      Earth      True  G/1496/S    TRAPPIST-1e  34.000000   \n",
      "4273     9269_01      Earth     False   unknown    TRAPPIST-1e  42.000000   \n",
      "4274     9271_01       Mars      True   D/296/P    55 Cancri e  28.658146   \n",
      "4275     9273_01     Europa     False   D/297/P        unknown  28.658146   \n",
      "4276     9277_01      Earth      True  G/1498/S  PSO J318.5-22  43.000000   \n",
      "\n",
      "        VIP  RoomService  FoodCourt  ShoppingMall     Spa  VRDeck  \\\n",
      "0     False          0.0        0.0           0.0     0.0     0.0   \n",
      "1     False          0.0        9.0           0.0  2823.0     0.0   \n",
      "2     False          0.0        0.0           0.0     0.0     0.0   \n",
      "3     False          0.0     6652.0           0.0   181.0   585.0   \n",
      "4     False         10.0        0.0         635.0     0.0     0.0   \n",
      "...     ...          ...        ...           ...     ...     ...   \n",
      "4272  False          0.0        0.0           0.0     0.0     0.0   \n",
      "4273  False          0.0      847.0          17.0    10.0   144.0   \n",
      "4274  False          0.0        0.0           0.0     0.0     0.0   \n",
      "4275  False          0.0     2680.0           0.0     0.0   523.0   \n",
      "4276  False          0.0        0.0           0.0     0.0     0.0   \n",
      "\n",
      "                  Name  billing_moving  billing_fixed     Deck     Side  \\\n",
      "0      Nelly Carsoning             0.0            0.0        G        S   \n",
      "1       Lerome Peckers          2823.0            9.0        F        S   \n",
      "2      Sabih Unhearfus             0.0            0.0        C        S   \n",
      "3     Meratz Caltilter           766.0         6652.0        C        S   \n",
      "4      Brence Harperez            10.0          635.0        F        S   \n",
      "...                ...             ...            ...      ...      ...   \n",
      "4272       Jeron Peter             0.0            0.0        G        S   \n",
      "4273     Matty Scheron           154.0          864.0  unknown  unknown   \n",
      "4274       Jayrin Pore             0.0            0.0        D        P   \n",
      "4275    Kitakan Conale           523.0         2680.0        D        P   \n",
      "4276  Lilace Leonzaley             0.0            0.0        G        S   \n",
      "\n",
      "      CabinNum  \n",
      "0            3  \n",
      "1            4  \n",
      "2            0  \n",
      "3            1  \n",
      "4            5  \n",
      "...        ...  \n",
      "4272      1496  \n",
      "4273         0  \n",
      "4274       296  \n",
      "4275       297  \n",
      "4276      1498  \n",
      "\n",
      "[4277 rows x 18 columns]\n",
      "      billing_moving  billing_fixed  CabinNum        Age PassengerId  \\\n",
      "0                0.0            0.0         3  27.000000     0013_01   \n",
      "1             2823.0            9.0         4  19.000000     0018_01   \n",
      "2                0.0            0.0         0  31.000000     0019_01   \n",
      "3              766.0         6652.0         1  38.000000     0021_01   \n",
      "4               10.0          635.0         5  20.000000     0023_01   \n",
      "...              ...            ...       ...        ...         ...   \n",
      "4272             0.0            0.0      1496  34.000000     9266_02   \n",
      "4273           154.0          864.0         0  42.000000     9269_01   \n",
      "4274             0.0            0.0       296  28.658146     9271_01   \n",
      "4275           523.0         2680.0       297  28.658146     9273_01   \n",
      "4276             0.0            0.0      1498  43.000000     9277_01   \n",
      "\n",
      "      CryoSleep_True  CryoSleep_unknown  HomePlanet_Europa  HomePlanet_Mars  \\\n",
      "0               True              False              False            False   \n",
      "1              False              False              False            False   \n",
      "2               True              False               True            False   \n",
      "3              False              False               True            False   \n",
      "4              False              False              False            False   \n",
      "...              ...                ...                ...              ...   \n",
      "4272            True              False              False            False   \n",
      "4273           False              False              False            False   \n",
      "4274            True              False              False             True   \n",
      "4275           False              False               True            False   \n",
      "4276            True              False              False            False   \n",
      "\n",
      "      HomePlanet_unknown  ...  Deck_B  Deck_C  Deck_D  Deck_E  Deck_F  Deck_G  \\\n",
      "0                  False  ...   False   False   False   False   False    True   \n",
      "1                  False  ...   False   False   False   False    True   False   \n",
      "2                  False  ...   False    True   False   False   False   False   \n",
      "3                  False  ...   False    True   False   False   False   False   \n",
      "4                  False  ...   False   False   False   False    True   False   \n",
      "...                  ...  ...     ...     ...     ...     ...     ...     ...   \n",
      "4272               False  ...   False   False   False   False   False    True   \n",
      "4273               False  ...   False   False   False   False   False   False   \n",
      "4274               False  ...   False   False    True   False   False   False   \n",
      "4275               False  ...   False   False    True   False   False   False   \n",
      "4276               False  ...   False   False   False   False   False    True   \n",
      "\n",
      "      Deck_T  Deck_unknown  Side_S  Side_unknown  \n",
      "0      False         False    True         False  \n",
      "1      False         False    True         False  \n",
      "2      False         False    True         False  \n",
      "3      False         False    True         False  \n",
      "4      False         False    True         False  \n",
      "...      ...           ...     ...           ...  \n",
      "4272   False         False    True         False  \n",
      "4273   False          True   False          True  \n",
      "4274   False         False   False         False  \n",
      "4275   False         False   False         False  \n",
      "4276   False         False    True         False  \n",
      "\n",
      "[4277 rows x 23 columns]\n"
     ]
    }
   ],
   "source": [
    "print(test)\n",
    "print(test_encoded)"
   ]
  },
  {
   "cell_type": "code",
   "execution_count": 52,
   "id": "fb181466",
   "metadata": {
    "execution": {
     "iopub.execute_input": "2023-09-16T01:39:10.800165Z",
     "iopub.status.busy": "2023-09-16T01:39:10.799736Z",
     "iopub.status.idle": "2023-09-16T01:39:12.208185Z",
     "shell.execute_reply": "2023-09-16T01:39:12.207013Z"
    },
    "papermill": {
     "duration": 1.444944,
     "end_time": "2023-09-16T01:39:12.211205",
     "exception": false,
     "start_time": "2023-09-16T01:39:10.766261",
     "status": "completed"
    },
    "tags": []
   },
   "outputs": [
    {
     "name": "stderr",
     "output_type": "stream",
     "text": [
      "/tmp/ipykernel_20/2505213815.py:2: DataConversionWarning: A column-vector y was passed when a 1d array was expected. Please change the shape of y to (n_samples,), for example using ravel().\n",
      "  rf_model.fit(X,y)\n"
     ]
    }
   ],
   "source": [
    "rf_model = RandomForestClassifier(random_state=1)\n",
    "rf_model.fit(X,y)\n",
    "\n",
    "X_test = test_encoded\n",
    "test_val_predictions = rf_model.predict(X_test)\n"
   ]
  },
  {
   "cell_type": "code",
   "execution_count": null,
   "id": "37cf3333",
   "metadata": {
    "papermill": {
     "duration": 0.030411,
     "end_time": "2023-09-16T01:39:12.274660",
     "exception": false,
     "start_time": "2023-09-16T01:39:12.244249",
     "status": "completed"
    },
    "tags": []
   },
   "outputs": [],
   "source": []
  },
  {
   "cell_type": "code",
   "execution_count": 53,
   "id": "4b04b5f6",
   "metadata": {
    "execution": {
     "iopub.execute_input": "2023-09-16T01:39:12.339198Z",
     "iopub.status.busy": "2023-09-16T01:39:12.338758Z",
     "iopub.status.idle": "2023-09-16T01:39:12.345579Z",
     "shell.execute_reply": "2023-09-16T01:39:12.344524Z"
    },
    "papermill": {
     "duration": 0.041905,
     "end_time": "2023-09-16T01:39:12.348314",
     "exception": false,
     "start_time": "2023-09-16T01:39:12.306409",
     "status": "completed"
    },
    "tags": []
   },
   "outputs": [
    {
     "data": {
      "text/plain": [
       "(4277, 18)"
      ]
     },
     "execution_count": 53,
     "metadata": {},
     "output_type": "execute_result"
    }
   ],
   "source": [
    "test.shape"
   ]
  },
  {
   "cell_type": "code",
   "execution_count": 54,
   "id": "6b46a9ef",
   "metadata": {
    "execution": {
     "iopub.execute_input": "2023-09-16T01:39:12.412360Z",
     "iopub.status.busy": "2023-09-16T01:39:12.411958Z",
     "iopub.status.idle": "2023-09-16T01:39:12.431015Z",
     "shell.execute_reply": "2023-09-16T01:39:12.429805Z"
    },
    "papermill": {
     "duration": 0.055081,
     "end_time": "2023-09-16T01:39:12.434297",
     "exception": false,
     "start_time": "2023-09-16T01:39:12.379216",
     "status": "completed"
    },
    "tags": []
   },
   "outputs": [],
   "source": [
    "output = pd.DataFrame({'PassengerId': X_test.PassengerId,\n",
    "                       'Transported': test_val_predictions})\n",
    "output.to_csv('submission.csv', index=False)"
   ]
  },
  {
   "cell_type": "code",
   "execution_count": 55,
   "id": "228ae8df",
   "metadata": {
    "execution": {
     "iopub.execute_input": "2023-09-16T01:39:12.497825Z",
     "iopub.status.busy": "2023-09-16T01:39:12.497359Z",
     "iopub.status.idle": "2023-09-16T01:39:12.511972Z",
     "shell.execute_reply": "2023-09-16T01:39:12.510565Z"
    },
    "papermill": {
     "duration": 0.05008,
     "end_time": "2023-09-16T01:39:12.515000",
     "exception": false,
     "start_time": "2023-09-16T01:39:12.464920",
     "status": "completed"
    },
    "tags": []
   },
   "outputs": [
    {
     "data": {
      "text/html": [
       "<div>\n",
       "<style scoped>\n",
       "    .dataframe tbody tr th:only-of-type {\n",
       "        vertical-align: middle;\n",
       "    }\n",
       "\n",
       "    .dataframe tbody tr th {\n",
       "        vertical-align: top;\n",
       "    }\n",
       "\n",
       "    .dataframe thead th {\n",
       "        text-align: right;\n",
       "    }\n",
       "</style>\n",
       "<table border=\"1\" class=\"dataframe\">\n",
       "  <thead>\n",
       "    <tr style=\"text-align: right;\">\n",
       "      <th></th>\n",
       "      <th>PassengerId</th>\n",
       "      <th>Transported</th>\n",
       "    </tr>\n",
       "  </thead>\n",
       "  <tbody>\n",
       "    <tr>\n",
       "      <th>0</th>\n",
       "      <td>0013_01</td>\n",
       "      <td>True</td>\n",
       "    </tr>\n",
       "    <tr>\n",
       "      <th>1</th>\n",
       "      <td>0018_01</td>\n",
       "      <td>False</td>\n",
       "    </tr>\n",
       "    <tr>\n",
       "      <th>2</th>\n",
       "      <td>0019_01</td>\n",
       "      <td>True</td>\n",
       "    </tr>\n",
       "    <tr>\n",
       "      <th>3</th>\n",
       "      <td>0021_01</td>\n",
       "      <td>True</td>\n",
       "    </tr>\n",
       "    <tr>\n",
       "      <th>4</th>\n",
       "      <td>0023_01</td>\n",
       "      <td>True</td>\n",
       "    </tr>\n",
       "    <tr>\n",
       "      <th>...</th>\n",
       "      <td>...</td>\n",
       "      <td>...</td>\n",
       "    </tr>\n",
       "    <tr>\n",
       "      <th>4272</th>\n",
       "      <td>9266_02</td>\n",
       "      <td>True</td>\n",
       "    </tr>\n",
       "    <tr>\n",
       "      <th>4273</th>\n",
       "      <td>9269_01</td>\n",
       "      <td>True</td>\n",
       "    </tr>\n",
       "    <tr>\n",
       "      <th>4274</th>\n",
       "      <td>9271_01</td>\n",
       "      <td>True</td>\n",
       "    </tr>\n",
       "    <tr>\n",
       "      <th>4275</th>\n",
       "      <td>9273_01</td>\n",
       "      <td>True</td>\n",
       "    </tr>\n",
       "    <tr>\n",
       "      <th>4276</th>\n",
       "      <td>9277_01</td>\n",
       "      <td>False</td>\n",
       "    </tr>\n",
       "  </tbody>\n",
       "</table>\n",
       "<p>4277 rows × 2 columns</p>\n",
       "</div>"
      ],
      "text/plain": [
       "     PassengerId  Transported\n",
       "0        0013_01         True\n",
       "1        0018_01        False\n",
       "2        0019_01         True\n",
       "3        0021_01         True\n",
       "4        0023_01         True\n",
       "...          ...          ...\n",
       "4272     9266_02         True\n",
       "4273     9269_01         True\n",
       "4274     9271_01         True\n",
       "4275     9273_01         True\n",
       "4276     9277_01        False\n",
       "\n",
       "[4277 rows x 2 columns]"
      ]
     },
     "execution_count": 55,
     "metadata": {},
     "output_type": "execute_result"
    }
   ],
   "source": [
    "output"
   ]
  },
  {
   "cell_type": "code",
   "execution_count": 56,
   "id": "21d64068",
   "metadata": {
    "execution": {
     "iopub.execute_input": "2023-09-16T01:39:12.578266Z",
     "iopub.status.busy": "2023-09-16T01:39:12.577291Z",
     "iopub.status.idle": "2023-09-16T01:39:12.656623Z",
     "shell.execute_reply": "2023-09-16T01:39:12.655720Z"
    },
    "papermill": {
     "duration": 0.113098,
     "end_time": "2023-09-16T01:39:12.658776",
     "exception": false,
     "start_time": "2023-09-16T01:39:12.545678",
     "status": "completed"
    },
    "tags": []
   },
   "outputs": [
    {
     "data": {
      "text/html": [
       "<div>\n",
       "<style scoped>\n",
       "    .dataframe tbody tr th:only-of-type {\n",
       "        vertical-align: middle;\n",
       "    }\n",
       "\n",
       "    .dataframe tbody tr th {\n",
       "        vertical-align: top;\n",
       "    }\n",
       "\n",
       "    .dataframe thead th {\n",
       "        text-align: right;\n",
       "    }\n",
       "</style>\n",
       "<table border=\"1\" class=\"dataframe\">\n",
       "  <thead>\n",
       "    <tr style=\"text-align: right;\">\n",
       "      <th>DeckSide</th>\n",
       "      <th>AP</th>\n",
       "      <th>AS</th>\n",
       "      <th>BP</th>\n",
       "      <th>BS</th>\n",
       "      <th>CP</th>\n",
       "      <th>CS</th>\n",
       "      <th>DP</th>\n",
       "      <th>DS</th>\n",
       "      <th>EP</th>\n",
       "      <th>ES</th>\n",
       "      <th>FP</th>\n",
       "      <th>FS</th>\n",
       "      <th>GP</th>\n",
       "      <th>GS</th>\n",
       "      <th>unknown</th>\n",
       "      <th>All</th>\n",
       "    </tr>\n",
       "  </thead>\n",
       "  <tbody>\n",
       "    <tr>\n",
       "      <th>Transported</th>\n",
       "      <td>0.000329</td>\n",
       "      <td>0.000988</td>\n",
       "      <td>0.000988</td>\n",
       "      <td>0.000000</td>\n",
       "      <td>0.000659</td>\n",
       "      <td>0.000000</td>\n",
       "      <td>0.000329</td>\n",
       "      <td>0.000000</td>\n",
       "      <td>0.009549</td>\n",
       "      <td>0.009878</td>\n",
       "      <td>0.000988</td>\n",
       "      <td>0.001646</td>\n",
       "      <td>0.090550</td>\n",
       "      <td>0.060915</td>\n",
       "      <td>0.005598</td>\n",
       "      <td>0.182417</td>\n",
       "    </tr>\n",
       "    <tr>\n",
       "      <th>NoTransported</th>\n",
       "      <td>0.009220</td>\n",
       "      <td>0.011854</td>\n",
       "      <td>0.059598</td>\n",
       "      <td>0.077379</td>\n",
       "      <td>0.042147</td>\n",
       "      <td>0.054001</td>\n",
       "      <td>0.014817</td>\n",
       "      <td>0.019098</td>\n",
       "      <td>0.015147</td>\n",
       "      <td>0.020744</td>\n",
       "      <td>0.090879</td>\n",
       "      <td>0.087586</td>\n",
       "      <td>0.132367</td>\n",
       "      <td>0.160685</td>\n",
       "      <td>0.022061</td>\n",
       "      <td>0.817583</td>\n",
       "    </tr>\n",
       "    <tr>\n",
       "      <th>coltotal</th>\n",
       "      <td>0.009549</td>\n",
       "      <td>0.012842</td>\n",
       "      <td>0.060586</td>\n",
       "      <td>0.077379</td>\n",
       "      <td>0.042805</td>\n",
       "      <td>0.054001</td>\n",
       "      <td>0.015147</td>\n",
       "      <td>0.019098</td>\n",
       "      <td>0.024695</td>\n",
       "      <td>0.030622</td>\n",
       "      <td>0.091867</td>\n",
       "      <td>0.089233</td>\n",
       "      <td>0.222917</td>\n",
       "      <td>0.221600</td>\n",
       "      <td>0.027659</td>\n",
       "      <td>1.000000</td>\n",
       "    </tr>\n",
       "  </tbody>\n",
       "</table>\n",
       "</div>"
      ],
      "text/plain": [
       "DeckSide             AP        AS        BP        BS        CP        CS  \\\n",
       "Transported    0.000329  0.000988  0.000988  0.000000  0.000659  0.000000   \n",
       "NoTransported  0.009220  0.011854  0.059598  0.077379  0.042147  0.054001   \n",
       "coltotal       0.009549  0.012842  0.060586  0.077379  0.042805  0.054001   \n",
       "\n",
       "DeckSide             DP        DS        EP        ES        FP        FS  \\\n",
       "Transported    0.000329  0.000000  0.009549  0.009878  0.000988  0.001646   \n",
       "NoTransported  0.014817  0.019098  0.015147  0.020744  0.090879  0.087586   \n",
       "coltotal       0.015147  0.019098  0.024695  0.030622  0.091867  0.089233   \n",
       "\n",
       "DeckSide             GP        GS   unknown       All  \n",
       "Transported    0.090550  0.060915  0.005598  0.182417  \n",
       "NoTransported  0.132367  0.160685  0.022061  0.817583  \n",
       "coltotal       0.222917  0.221600  0.027659  1.000000  "
      ]
     },
     "execution_count": 56,
     "metadata": {},
     "output_type": "execute_result"
    }
   ],
   "source": [
    "# Data in cryo only  \n",
    "# Your cryo_data DataFrame\n",
    "data = train[train[\"CryoSleep\"] == 1]\n",
    "x_data = data[[ \"DeckSide\", \"HomeDestination\"]]\n",
    "y_data = data[\"Transported\"]\n",
    "# X1: DeckSide  Y : Transported \n",
    "values = np.array(train[\"DeckSide\"].unique())\n",
    "freq_table = pd.crosstab(index=data[\"Transported\"], \n",
    "                            columns=data[\"DeckSide\"],\n",
    "                             margins=True)\n",
    "freq_table.index= [\"Transported\",\"NoTransported\",\"coltotal\"]\n",
    "# joint probability \n",
    "freq_table/freq_table.loc[\"coltotal\",\"All\"]\n",
    "# likelihood table1 Prior probability  \n",
    "\n",
    "# likelihood table2 Posterior probability"
   ]
  },
  {
   "cell_type": "raw",
   "id": "e26ccc70",
   "metadata": {
    "papermill": {
     "duration": 0.03014,
     "end_time": "2023-09-16T01:39:12.719617",
     "exception": false,
     "start_time": "2023-09-16T01:39:12.689477",
     "status": "completed"
    },
    "tags": []
   },
   "source": []
  },
  {
   "cell_type": "markdown",
   "id": "bc05afa8",
   "metadata": {
    "papermill": {
     "duration": 0.029804,
     "end_time": "2023-09-16T01:39:12.779426",
     "exception": false,
     "start_time": "2023-09-16T01:39:12.749622",
     "status": "completed"
    },
    "tags": []
   },
   "source": [
    "reduce dimensions of categorical data "
   ]
  }
 ],
 "metadata": {
  "kernelspec": {
   "display_name": "Python 3",
   "language": "python",
   "name": "python3"
  },
  "language_info": {
   "codemirror_mode": {
    "name": "ipython",
    "version": 3
   },
   "file_extension": ".py",
   "mimetype": "text/x-python",
   "name": "python",
   "nbconvert_exporter": "python",
   "pygments_lexer": "ipython3",
   "version": "3.10.12"
  },
  "papermill": {
   "default_parameters": {},
   "duration": 17.79131,
   "end_time": "2023-09-16T01:39:13.532790",
   "environment_variables": {},
   "exception": null,
   "input_path": "__notebook__.ipynb",
   "output_path": "__notebook__.ipynb",
   "parameters": {},
   "start_time": "2023-09-16T01:38:55.741480",
   "version": "2.4.0"
  }
 },
 "nbformat": 4,
 "nbformat_minor": 5
}
